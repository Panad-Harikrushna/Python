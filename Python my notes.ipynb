{
 "cells": [
  {
   "cell_type": "markdown",
   "id": "4c290cc2",
   "metadata": {},
   "source": [
    "# Commments\n",
    "Comments can be used to explain Pythone code.\n",
    "Comments can be used to make the code more readable.\n",
    "Comments arre ignored during execution.(not considered while executing the code)\n",
    "\n",
    "### Creating a Comment\n",
    "Comments starts with a #, and Pythone will ignore them:\n"
   ]
  },
  {
   "cell_type": "code",
   "execution_count": 1,
   "id": "60f6372a",
   "metadata": {},
   "outputs": [],
   "source": [
    "#this is a comment"
   ]
  },
  {
   "cell_type": "code",
   "execution_count": 2,
   "id": "25941bb0",
   "metadata": {},
   "outputs": [
    {
     "name": "stdout",
     "output_type": "stream",
     "text": [
      "Hello,world\n"
     ]
    }
   ],
   "source": [
    "#this is a comment\n",
    "print(\"Hello,world\")"
   ]
  },
  {
   "cell_type": "markdown",
   "id": "489b23f9",
   "metadata": {},
   "source": [
    "comments can be placed at the end of a line, and Pythone will ignore the rest of the line"
   ]
  },
  {
   "cell_type": "code",
   "execution_count": 3,
   "id": "06d71d20",
   "metadata": {
    "scrolled": true
   },
   "outputs": [
    {
     "name": "stdout",
     "output_type": "stream",
     "text": [
      " hello world!\n"
     ]
    }
   ],
   "source": [
    "print(\" hello world!\") #this is a comment"
   ]
  },
  {
   "cell_type": "markdown",
   "id": "2648eea5",
   "metadata": {},
   "source": [
    "A comment does not have to be text explaine the code`, it can used to prevent Pythone from executing code:"
   ]
  },
  {
   "cell_type": "code",
   "execution_count": 4,
   "id": "34e9a468",
   "metadata": {},
   "outputs": [
    {
     "name": "stdout",
     "output_type": "stream",
     "text": [
      "tigerking\n"
     ]
    }
   ],
   "source": [
    "#print(\"harikrushna\")\n",
    "print(\"tigerking\")"
   ]
  },
  {
   "cell_type": "markdown",
   "id": "f69fc9b3",
   "metadata": {},
   "source": [
    "# multiline Comments\n",
    " Pythone does not really have a syntax for multi line comments\n",
    " To add a multiline comment you could insert a # for each line."
   ]
  },
  {
   "cell_type": "code",
   "execution_count": 5,
   "id": "d12b7e20",
   "metadata": {},
   "outputs": [],
   "source": [
    "#1st Line\n",
    "#2ND LINE\n",
    "#3R LINe"
   ]
  },
  {
   "cell_type": "markdown",
   "id": "2871e505",
   "metadata": {},
   "source": [
    "- You can addd a multiline string (triple quotes) in our code. and place your comments inside it \n",
    "- (Since Python will ignore string literals that are not assigned to avarible)"
   ]
  },
  {
   "cell_type": "code",
   "execution_count": 6,
   "id": "1be18f08",
   "metadata": {},
   "outputs": [
    {
     "data": {
      "text/plain": [
       "'1st line\\n2nd line\\n3rd line'"
      ]
     },
     "execution_count": 6,
     "metadata": {},
     "output_type": "execute_result"
    }
   ],
   "source": [
    "\"\"\"1st line\n",
    "2nd line\n",
    "3rd line\"\"\""
   ]
  },
  {
   "cell_type": "code",
   "execution_count": 7,
   "id": "2a3a2b2c",
   "metadata": {},
   "outputs": [
    {
     "name": "stdout",
     "output_type": "stream",
     "text": [
      "hello boss\n"
     ]
    }
   ],
   "source": [
    "\"\"\"\n",
    "This is a comments\n",
    "written in\n",
    " more than one line\n",
    " \"\"\"\n",
    "print(\"hello boss\")"
   ]
  },
  {
   "cell_type": "markdown",
   "id": "8855d447",
   "metadata": {},
   "source": [
    "# variables"
   ]
  },
  {
   "cell_type": "markdown",
   "id": "d725c0cb",
   "metadata": {},
   "source": [
    "- vaiable are containers for storing data values.\n",
    "- variables is a location in memory used to store some data(value)\n",
    "- in Python, variable are dynamic (we don't even have o declare the type of the variable).\n",
    "## Rules in nameing a variable\n",
    "- Rule 1: avaiable name must start with a letter or the underscore character\n",
    "- Rule 2: a variable name cannot sart with a number\n",
    "- Rule 3; a variable name only contain alpha-numerric character and undrscore(A-z, 0-9 and _\n",
    "- Rule 4 ; A VARIABLR accepts only underscore\"_\"symbol only(No other symbol is accepted)\n",
    "- Rule 5: variable names are case sensitive (age,Age nd AGE are three different variables)\n",
    "- Rule 6: it can't accept reserve keywords\n",
    "### list of reserve keywords : \n",
    "['False', 'None', 'True', 'and',' as', 'assert', 'async', 'await', 'break', 'class', 'continue', 'def', 'del', 'elif', 'else', 'except', 'finally', 'for', 'from', 'global', 'if', 'import', 'in', 'is', 'lambda', 'nonlocal', 'not', 'or', 'pass', 'raise', 'return', 'try', while, with', 'yeild'] \n",
    "                        \n",
    "                        \n",
    "                   \n",
    "# Variable assignment"
   ]
  },
  {
   "cell_type": "code",
   "execution_count": 8,
   "id": "94b7224f",
   "metadata": {},
   "outputs": [
    {
     "name": "stdout",
     "output_type": "stream",
     "text": [
      "5\n"
     ]
    }
   ],
   "source": [
    "#this is first variable assignment\n",
    "a=5\n",
    "print(a)"
   ]
  },
  {
   "cell_type": "code",
   "execution_count": 9,
   "id": "245f0fd0",
   "metadata": {},
   "outputs": [
    {
     "name": "stdout",
     "output_type": "stream",
     "text": [
      "2.0\n"
     ]
    }
   ],
   "source": [
    "A=2.0\n",
    "print(A)"
   ]
  },
  {
   "cell_type": "code",
   "execution_count": 10,
   "id": "4540f985",
   "metadata": {},
   "outputs": [
    {
     "name": "stdout",
     "output_type": "stream",
     "text": [
      "tigerking\n"
     ]
    }
   ],
   "source": [
    "z=\"tigerking\"\n",
    "print(z)"
   ]
  },
  {
   "cell_type": "code",
   "execution_count": 11,
   "id": "4e02b9bb",
   "metadata": {},
   "outputs": [
    {
     "name": "stdout",
     "output_type": "stream",
     "text": [
      "5\n"
     ]
    }
   ],
   "source": [
    "a1=40\n",
    "print(a)"
   ]
  },
  {
   "cell_type": "code",
   "execution_count": 12,
   "id": "4e5ba00d",
   "metadata": {},
   "outputs": [
    {
     "name": "stdout",
     "output_type": "stream",
     "text": [
      "60\n"
     ]
    }
   ],
   "source": [
    "a_1=60\n",
    "print(a_1)"
   ]
  },
  {
   "cell_type": "code",
   "execution_count": 13,
   "id": "0b959b1e",
   "metadata": {},
   "outputs": [
    {
     "ename": "SyntaxError",
     "evalue": "invalid syntax (Temp/ipykernel_2212/3421030629.py, line 1)",
     "output_type": "error",
     "traceback": [
      "\u001b[1;36m  File \u001b[1;32m\"C:\\Users\\Lenovo\\AppData\\Local\\Temp/ipykernel_2212/3421030629.py\"\u001b[1;36m, line \u001b[1;32m1\u001b[0m\n\u001b[1;33m    1a=50\u001b[0m\n\u001b[1;37m     ^\u001b[0m\n\u001b[1;31mSyntaxError\u001b[0m\u001b[1;31m:\u001b[0m invalid syntax\n"
     ]
    }
   ],
   "source": [
    "1a=50\n",
    "prrint(1a)"
   ]
  },
  {
   "cell_type": "code",
   "execution_count": null,
   "id": "fe58cf4e",
   "metadata": {},
   "outputs": [],
   "source": [
    "if =5                 # keyword can not be used as variable names"
   ]
  },
  {
   "cell_type": "markdown",
   "id": "f758c2da",
   "metadata": {},
   "source": [
    "# Many values tomultiple Variables\n",
    "\n",
    "- Python allows you to assign values to multiple variable in one line"
   ]
  },
  {
   "cell_type": "code",
   "execution_count": null,
   "id": "04749474",
   "metadata": {},
   "outputs": [],
   "source": [
    "a,b,c=4,5,6\n",
    "print(a,b,c)"
   ]
  },
  {
   "cell_type": "markdown",
   "id": "0b19b73d",
   "metadata": {},
   "source": [
    "####  Note:  Make sure the Number of variable matches  the number of value, or else you will get an error.\n",
    "\n",
    "# One value to multiple Variable\n",
    "\n",
    "- and you can assign the same value to multiple variables in oneline"
   ]
  },
  {
   "cell_type": "code",
   "execution_count": null,
   "id": "0a8d9716",
   "metadata": {},
   "outputs": [],
   "source": [
    "a=b=c=\"Ai\"\n",
    "print(a)\n",
    "print(b)\n",
    "print(c)"
   ]
  },
  {
   "cell_type": "markdown",
   "id": "2b007eb8",
   "metadata": {},
   "source": [
    "# Storage Location\n",
    "\n",
    "- In python, objects are created based on value\n",
    "- id() --used to get addreess"
   ]
  },
  {
   "cell_type": "code",
   "execution_count": null,
   "id": "50210d54",
   "metadata": {},
   "outputs": [],
   "source": [
    "a=20\n",
    "id(a)"
   ]
  },
  {
   "cell_type": "code",
   "execution_count": null,
   "id": "2064b35f",
   "metadata": {},
   "outputs": [],
   "source": [
    "b=20\n",
    "id(b)"
   ]
  },
  {
   "cell_type": "markdown",
   "id": "d6a86711",
   "metadata": {},
   "source": [
    "#### InPython, the latest value will be stored in a variable]"
   ]
  },
  {
   "cell_type": "code",
   "execution_count": null,
   "id": "12b8ecba",
   "metadata": {},
   "outputs": [],
   "source": [
    "a='hari'\n",
    "print(a)\n",
    "id(a)"
   ]
  },
  {
   "cell_type": "markdown",
   "id": "6e3efcc4",
   "metadata": {},
   "source": [
    "#  Delete variable\n",
    "- to delete single variable"
   ]
  },
  {
   "cell_type": "code",
   "execution_count": 14,
   "id": "f791edaa",
   "metadata": {},
   "outputs": [],
   "source": [
    "a=10\n",
    "del a"
   ]
  },
  {
   "cell_type": "code",
   "execution_count": 15,
   "id": "3a9d45c8",
   "metadata": {},
   "outputs": [
    {
     "ename": "NameError",
     "evalue": "name 'a' is not defined",
     "output_type": "error",
     "traceback": [
      "\u001b[1;31m---------------------------------------------------------------------------\u001b[0m",
      "\u001b[1;31mNameError\u001b[0m                                 Traceback (most recent call last)",
      "\u001b[1;32m~\\AppData\\Local\\Temp/ipykernel_2212/1189138062.py\u001b[0m in \u001b[0;36m<module>\u001b[1;34m\u001b[0m\n\u001b[1;32m----> 1\u001b[1;33m \u001b[0mprint\u001b[0m\u001b[1;33m(\u001b[0m\u001b[0ma\u001b[0m\u001b[1;33m)\u001b[0m\u001b[1;33m\u001b[0m\u001b[1;33m\u001b[0m\u001b[0m\n\u001b[0m",
      "\u001b[1;31mNameError\u001b[0m: name 'a' is not defined"
     ]
    }
   ],
   "source": [
    "print(a)"
   ]
  },
  {
   "cell_type": "markdown",
   "id": "65e90020",
   "metadata": {},
   "source": [
    "- to delete multiple variable at a time"
   ]
  },
  {
   "cell_type": "code",
   "execution_count": null,
   "id": "59278863",
   "metadata": {},
   "outputs": [],
   "source": [
    "a=10\n",
    "b=20\n",
    "c=30\n",
    "\n",
    "del a,b"
   ]
  },
  {
   "cell_type": "markdown",
   "id": "d6c57fef",
   "metadata": {},
   "source": [
    "# ---------------------------------------------"
   ]
  },
  {
   "cell_type": "markdown",
   "id": "934846d6",
   "metadata": {},
   "source": [
    "# Python Output"
   ]
  },
  {
   "cell_type": "code",
   "execution_count": null,
   "id": "eef56628",
   "metadata": {},
   "outputs": [],
   "source": [
    "# prinnt numeric\n",
    "print(10)"
   ]
  },
  {
   "cell_type": "code",
   "execution_count": null,
   "id": "d3ffbbdc",
   "metadata": {},
   "outputs": [],
   "source": [
    "# print text\n",
    "print(\"krishna\")"
   ]
  },
  {
   "cell_type": "code",
   "execution_count": null,
   "id": "d1ea0cab",
   "metadata": {},
   "outputs": [],
   "source": [
    "# print single variable\n",
    "a=10\n",
    "print(a)"
   ]
  },
  {
   "cell_type": "code",
   "execution_count": null,
   "id": "bf465637",
   "metadata": {},
   "outputs": [],
   "source": [
    "print(krishna)"
   ]
  },
  {
   "cell_type": "code",
   "execution_count": null,
   "id": "771fee37",
   "metadata": {},
   "outputs": [],
   "source": [
    "# print multiple variable\n",
    "a=10\n",
    "b=20\n",
    "c=30\n",
    "d=40\n",
    "print(a,b,c,d)       # default separator is space between yhe values"
   ]
  },
  {
   "cell_type": "code",
   "execution_count": null,
   "id": "61d47177",
   "metadata": {},
   "outputs": [],
   "source": [
    "a=\"the value of a ;\"\n",
    "b=10\n",
    "print(a,b)"
   ]
  },
  {
   "cell_type": "code",
   "execution_count": null,
   "id": "8a082f50",
   "metadata": {},
   "outputs": [],
   "source": [
    "print('the value of a;',b)"
   ]
  },
  {
   "cell_type": "code",
   "execution_count": null,
   "id": "cd0dc4f1",
   "metadata": {},
   "outputs": [],
   "source": [
    "num= 12\n",
    "name=\"rita\""
   ]
  },
  {
   "cell_type": "code",
   "execution_count": null,
   "id": "e21dd4c7",
   "metadata": {},
   "outputs": [],
   "source": [
    "print(\" My number is:\",num,\"and my name is:\",name)"
   ]
  },
  {
   "cell_type": "code",
   "execution_count": null,
   "id": "e644ca61",
   "metadata": {},
   "outputs": [],
   "source": [
    "print(\"my phone number is ;{} and my number is ; {}\".format(num,name))"
   ]
  },
  {
   "cell_type": "code",
   "execution_count": null,
   "id": "64b3a0d2",
   "metadata": {},
   "outputs": [],
   "source": [
    "print('Rama \"sita\"')"
   ]
  },
  {
   "cell_type": "code",
   "execution_count": null,
   "id": "0c4eebc0",
   "metadata": {},
   "outputs": [],
   "source": [
    "print('ram's \"sita\"')"
   ]
  },
  {
   "cell_type": "code",
   "execution_count": null,
   "id": "9dd36094",
   "metadata": {},
   "outputs": [],
   "source": [
    "print('ram\\'s \"sita\"')"
   ]
  },
  {
   "cell_type": "markdown",
   "id": "21e776c7",
   "metadata": {},
   "source": [
    "# ------------------4 Data type----------------------\n",
    "### 1. Fundamental Data types\n",
    "                   integer  float   complex  boolean   string\n",
    "                    42       42.0    a+bj     True    \"hello\"\n",
    "### 2.Advanced Data types or Data Structure or Containers\n",
    "      list     Tuple   Set      Dictionary\n",
    "      [1,2,3] (1,2,3)  {1,2,3}  {1:\"audi\",2:\"Maruti\"}\n",
    "# Int - Numeric value with out any decimal\n",
    "\n",
    " "
   ]
  },
  {
   "cell_type": "code",
   "execution_count": null,
   "id": "c94796c0",
   "metadata": {},
   "outputs": [],
   "source": [
    "a=10\n",
    "print(a)"
   ]
  },
  {
   "cell_type": "code",
   "execution_count": null,
   "id": "e90b9f21",
   "metadata": {},
   "outputs": [],
   "source": [
    "type(a)    # To check data type : use type() funcion"
   ]
  },
  {
   "cell_type": "markdown",
   "id": "31b86f23",
   "metadata": {},
   "source": [
    "# Float- Numeic value with decimal"
   ]
  },
  {
   "cell_type": "code",
   "execution_count": null,
   "id": "c8cb2e5c",
   "metadata": {},
   "outputs": [],
   "source": [
    "b=3.0\n",
    "print(b)"
   ]
  },
  {
   "cell_type": "code",
   "execution_count": null,
   "id": "88dd7950",
   "metadata": {},
   "outputs": [],
   "source": [
    "type(b)"
   ]
  },
  {
   "cell_type": "code",
   "execution_count": null,
   "id": "e01c4315",
   "metadata": {},
   "outputs": [],
   "source": [
    "a=3\n",
    "type(a)"
   ]
  },
  {
   "cell_type": "markdown",
   "id": "f117fd87",
   "metadata": {},
   "source": [
    "# Type Casting: Convert from one data type to another data type "
   ]
  },
  {
   "cell_type": "code",
   "execution_count": null,
   "id": "5b3ecc79",
   "metadata": {},
   "outputs": [],
   "source": [
    "b=5.8\n",
    "b"
   ]
  },
  {
   "cell_type": "code",
   "execution_count": null,
   "id": "922a5541",
   "metadata": {},
   "outputs": [],
   "source": [
    "type(b)"
   ]
  },
  {
   "cell_type": "code",
   "execution_count": null,
   "id": "956aee45",
   "metadata": {},
   "outputs": [],
   "source": [
    "int(b)"
   ]
  },
  {
   "cell_type": "code",
   "execution_count": null,
   "id": "a80fff84",
   "metadata": {},
   "outputs": [],
   "source": [
    "int(10.999)"
   ]
  },
  {
   "cell_type": "code",
   "execution_count": null,
   "id": "c86d192b",
   "metadata": {},
   "outputs": [],
   "source": [
    "float(int(5.4))"
   ]
  },
  {
   "cell_type": "markdown",
   "id": "ccdddb93",
   "metadata": {},
   "source": [
    "# Booolean - True/False"
   ]
  },
  {
   "cell_type": "code",
   "execution_count": null,
   "id": "638cfa73",
   "metadata": {},
   "outputs": [],
   "source": [
    "b1=True"
   ]
  },
  {
   "cell_type": "code",
   "execution_count": null,
   "id": "5c7cdb9c",
   "metadata": {},
   "outputs": [],
   "source": [
    "type(b1)"
   ]
  },
  {
   "cell_type": "code",
   "execution_count": null,
   "id": "cc9bddcf",
   "metadata": {},
   "outputs": [],
   "source": [
    "type(False)"
   ]
  },
  {
   "cell_type": "code",
   "execution_count": null,
   "id": "491c66d8",
   "metadata": {},
   "outputs": [],
   "source": [
    "int(True)"
   ]
  },
  {
   "cell_type": "code",
   "execution_count": null,
   "id": "3f9a7caf",
   "metadata": {},
   "outputs": [],
   "source": [
    "int(False)"
   ]
  },
  {
   "cell_type": "code",
   "execution_count": null,
   "id": "4ba30ed8",
   "metadata": {},
   "outputs": [],
   "source": [
    "bool(0)"
   ]
  },
  {
   "cell_type": "markdown",
   "id": "534fc39b",
   "metadata": {},
   "source": [
    "# Complex\n",
    "####  Complex literals can be created by using the notation x+yj where x is the real number and y is the imaginary component"
   ]
  },
  {
   "cell_type": "code",
   "execution_count": null,
   "id": "483972c0",
   "metadata": {},
   "outputs": [],
   "source": [
    "x=10+20.5j"
   ]
  },
  {
   "cell_type": "code",
   "execution_count": null,
   "id": "7c63f827",
   "metadata": {},
   "outputs": [],
   "source": [
    "type(x)"
   ]
  },
  {
   "cell_type": "code",
   "execution_count": null,
   "id": "b63e210a",
   "metadata": {},
   "outputs": [],
   "source": [
    "# To get real value\n",
    "x.real"
   ]
  },
  {
   "cell_type": "markdown",
   "id": "8b211952",
   "metadata": {},
   "source": [
    "- it always returns float only \n"
   ]
  },
  {
   "cell_type": "code",
   "execution_count": null,
   "id": "b34ae6e7",
   "metadata": {},
   "outputs": [],
   "source": [
    "int(x.real)"
   ]
  },
  {
   "cell_type": "code",
   "execution_count": null,
   "id": "14c74c6d",
   "metadata": {},
   "outputs": [],
   "source": [
    "# To gt imaginary value\n",
    "x.imag"
   ]
  },
  {
   "cell_type": "code",
   "execution_count": null,
   "id": "b3dd35e9",
   "metadata": {},
   "outputs": [],
   "source": [
    "int(10+5j)"
   ]
  },
  {
   "cell_type": "code",
   "execution_count": null,
   "id": "eaeff896",
   "metadata": {},
   "outputs": [],
   "source": [
    "complex(10.4)"
   ]
  },
  {
   "cell_type": "markdown",
   "id": "9bb25717",
   "metadata": {},
   "source": [
    "# Stings"
   ]
  },
  {
   "cell_type": "markdown",
   "id": "b375f40b",
   "metadata": {},
   "source": [
    "- A string in Python consists of a series or  sequences of characters- letters, numbers, and special characters.\n",
    "- We can use single quotes or double quotes to represent strings."
   ]
  },
  {
   "cell_type": "code",
   "execution_count": null,
   "id": "f0e8b8fd",
   "metadata": {},
   "outputs": [],
   "source": [
    "a=\"siva\"\n",
    "print(a)"
   ]
  },
  {
   "cell_type": "code",
   "execution_count": null,
   "id": "c2f0dc51",
   "metadata": {},
   "outputs": [],
   "source": [
    "type(a)"
   ]
  },
  {
   "cell_type": "code",
   "execution_count": null,
   "id": "efc9c410",
   "metadata": {},
   "outputs": [],
   "source": [
    "myString1='hello'\n",
    "print(myString1)\n",
    "id (myString1)\n",
    "\n",
    "myString2=\"hello\"\n",
    "print(myString2)\n",
    "id (myString2)\n",
    "\n",
    "myString3='''hello'''\n",
    "print(myString3)\n",
    "id (myString3)"
   ]
  },
  {
   "cell_type": "code",
   "execution_count": null,
   "id": "97db311d",
   "metadata": {},
   "outputs": [],
   "source": [
    "name='''data\n",
    "science'''"
   ]
  },
  {
   "cell_type": "code",
   "execution_count": null,
   "id": "1bc8234f",
   "metadata": {},
   "outputs": [],
   "source": [
    "name"
   ]
  },
  {
   "cell_type": "code",
   "execution_count": null,
   "id": "1ac519c2",
   "metadata": {},
   "outputs": [],
   "source": [
    "len(name)"
   ]
  },
  {
   "cell_type": "code",
   "execution_count": null,
   "id": "3118c88a",
   "metadata": {},
   "outputs": [],
   "source": [
    "var1=123456789\n",
    "type(var1)"
   ]
  },
  {
   "cell_type": "code",
   "execution_count": null,
   "id": "e080534f",
   "metadata": {},
   "outputs": [],
   "source": [
    "var='123456789'\n",
    "type(var)"
   ]
  },
  {
   "cell_type": "code",
   "execution_count": null,
   "id": "b93e0327",
   "metadata": {},
   "outputs": [],
   "source": [
    "float(var)"
   ]
  },
  {
   "cell_type": "markdown",
   "id": "ca5c214d",
   "metadata": {},
   "source": [
    "a='h@rikrushna123' "
   ]
  },
  {
   "cell_type": "code",
   "execution_count": null,
   "id": "a3538833",
   "metadata": {},
   "outputs": [],
   "source": [
    "int(a)"
   ]
  },
  {
   "cell_type": "markdown",
   "id": "39fae5ff",
   "metadata": {},
   "source": [
    "## length of string"
   ]
  },
  {
   "cell_type": "raw",
   "id": "01e56411",
   "metadata": {},
   "source": [
    "myString=\"hello\"\n",
    "len(myString)"
   ]
  },
  {
   "cell_type": "markdown",
   "id": "0208e757",
   "metadata": {},
   "source": [
    "## indexing (accssing characters in a string)\n",
    "- String can be indexed - often synonymosly called subscripted as well.\n",
    "- Python Supports both +ve index & -ve index\n",
    "    - +ve index means left to right (forward direction)-> Forward indexing\n",
    "    - -ve index means left to right(backword diraction)-> Reverse indexing\n",
    "- the first character of a string has the index 0."
   ]
  },
  {
   "cell_type": "code",
   "execution_count": 16,
   "id": "9d619fc5",
   "metadata": {},
   "outputs": [
    {
     "name": "stdout",
     "output_type": "stream",
     "text": [
      "H\n"
     ]
    }
   ],
   "source": [
    "#print first character\n",
    "myString=\"Hari@krushna\"\n",
    "print(myString[0])"
   ]
  },
  {
   "cell_type": "code",
   "execution_count": 17,
   "id": "86a67612",
   "metadata": {},
   "outputs": [
    {
     "name": "stdout",
     "output_type": "stream",
     "text": [
      "h\n"
     ]
    }
   ],
   "source": [
    "#Last char d[Len(d)-1] or d[-1]\n",
    "print(myString[-3])"
   ]
  },
  {
   "cell_type": "code",
   "execution_count": 18,
   "id": "47b0d00d",
   "metadata": {},
   "outputs": [
    {
     "name": "stdout",
     "output_type": "stream",
     "text": [
      "r\n"
     ]
    }
   ],
   "source": [
    "# print character using negative indexing\n",
    "print(myString[-6])"
   ]
  },
  {
   "cell_type": "code",
   "execution_count": 19,
   "id": "dd73844f",
   "metadata": {},
   "outputs": [
    {
     "ename": "IndexError",
     "evalue": "string index out of range",
     "output_type": "error",
     "traceback": [
      "\u001b[1;31m---------------------------------------------------------------------------\u001b[0m",
      "\u001b[1;31mIndexError\u001b[0m                                Traceback (most recent call last)",
      "\u001b[1;32m~\\AppData\\Local\\Temp/ipykernel_2212/459689806.py\u001b[0m in \u001b[0;36m<module>\u001b[1;34m\u001b[0m\n\u001b[0;32m      1\u001b[0m \u001b[1;31m# if we try to access index with out of the range, we will get index error\u001b[0m\u001b[1;33m\u001b[0m\u001b[1;33m\u001b[0m\u001b[0m\n\u001b[0;32m      2\u001b[0m \u001b[1;33m\u001b[0m\u001b[0m\n\u001b[1;32m----> 3\u001b[1;33m \u001b[0mprint\u001b[0m\u001b[1;33m(\u001b[0m\u001b[0mmyString\u001b[0m\u001b[1;33m[\u001b[0m\u001b[1;36m15\u001b[0m\u001b[1;33m]\u001b[0m\u001b[1;33m)\u001b[0m\u001b[1;33m\u001b[0m\u001b[1;33m\u001b[0m\u001b[0m\n\u001b[0m",
      "\u001b[1;31mIndexError\u001b[0m: string index out of range"
     ]
    }
   ],
   "source": [
    "# if we try to access index with out of the range, we will get index error\n",
    "\n",
    "print(myString[15])"
   ]
  },
  {
   "cell_type": "code",
   "execution_count": null,
   "id": "70c809ea",
   "metadata": {},
   "outputs": [],
   "source": [
    "# if we try to accessby using use decimal number, we will get errors.\n",
    "print(myString[1.2])"
   ]
  },
  {
   "cell_type": "markdown",
   "id": "c4b2af70",
   "metadata": {},
   "source": [
    "#  Slicing the strings\n",
    "[start index(inclusive): end index(exclusive0: step]\n",
    "\n",
    "Step can be either +ve or -ve & default value=+1"
   ]
  },
  {
   "cell_type": "code",
   "execution_count": null,
   "id": "67c17026",
   "metadata": {},
   "outputs": [],
   "source": [
    "myString[2:5]"
   ]
  },
  {
   "cell_type": "code",
   "execution_count": null,
   "id": "380720d2",
   "metadata": {},
   "outputs": [],
   "source": [
    "myString[0:3]"
   ]
  },
  {
   "cell_type": "code",
   "execution_count": null,
   "id": "d7d18aa4",
   "metadata": {},
   "outputs": [],
   "source": [
    "myString[2:45]"
   ]
  },
  {
   "cell_type": "code",
   "execution_count": null,
   "id": "806e8889",
   "metadata": {},
   "outputs": [],
   "source": [
    "myString[4:0:-1]"
   ]
  },
  {
   "cell_type": "code",
   "execution_count": null,
   "id": "a81dec30",
   "metadata": {},
   "outputs": [],
   "source": [
    "myString[:4]"
   ]
  },
  {
   "cell_type": "code",
   "execution_count": null,
   "id": "62429288",
   "metadata": {},
   "outputs": [],
   "source": [
    "myString[2:]"
   ]
  },
  {
   "cell_type": "code",
   "execution_count": 20,
   "id": "3c9becd7",
   "metadata": {},
   "outputs": [
    {
     "data": {
      "text/plain": [
       "'Hr@rsn'"
      ]
     },
     "execution_count": 20,
     "metadata": {},
     "output_type": "execute_result"
    }
   ],
   "source": [
    "myString[::2]"
   ]
  },
  {
   "cell_type": "code",
   "execution_count": 21,
   "id": "c3ff920d",
   "metadata": {},
   "outputs": [
    {
     "data": {
      "text/plain": [
       "'Hari@krushna'"
      ]
     },
     "execution_count": 21,
     "metadata": {},
     "output_type": "execute_result"
    }
   ],
   "source": [
    "myString[:]"
   ]
  },
  {
   "cell_type": "code",
   "execution_count": 22,
   "id": "d2310273",
   "metadata": {},
   "outputs": [
    {
     "data": {
      "text/plain": [
       "'anhsurk@iraH'"
      ]
     },
     "execution_count": 22,
     "metadata": {},
     "output_type": "execute_result"
    }
   ],
   "source": [
    "#print in reverse order\n",
    "myString[::-1]"
   ]
  },
  {
   "cell_type": "markdown",
   "id": "d7a97a91",
   "metadata": {},
   "source": [
    "# String Concatenation\n",
    "- Joining of two more strings into a single one is called concatation\n",
    "- The + operator does this in python. Simple writing two string liteals together also concatation them.\n"
   ]
  },
  {
   "cell_type": "code",
   "execution_count": 23,
   "id": "b0011e69",
   "metadata": {},
   "outputs": [
    {
     "data": {
      "text/plain": [
       "'helloWorld'"
      ]
     },
     "execution_count": 23,
     "metadata": {},
     "output_type": "execute_result"
    }
   ],
   "source": [
    "\"hello\"+\"World\"\n"
   ]
  },
  {
   "cell_type": "code",
   "execution_count": 24,
   "id": "67fc21e5",
   "metadata": {},
   "outputs": [
    {
     "data": {
      "text/plain": [
       "'HelloWorld'"
      ]
     },
     "execution_count": 24,
     "metadata": {},
     "output_type": "execute_result"
    }
   ],
   "source": [
    "'Hello'+'World'"
   ]
  },
  {
   "cell_type": "markdown",
   "id": "a026551e",
   "metadata": {},
   "source": [
    "- the * operator can be used to repeat the string for a given number of times."
   ]
  },
  {
   "cell_type": "code",
   "execution_count": 25,
   "id": "1206eb3f",
   "metadata": {},
   "outputs": [
    {
     "data": {
      "text/plain": [
       "'AIAIAIAIAI'"
      ]
     },
     "execution_count": 25,
     "metadata": {},
     "output_type": "execute_result"
    }
   ],
   "source": [
    "\"AI\"*5"
   ]
  },
  {
   "cell_type": "code",
   "execution_count": 26,
   "id": "f37814b7",
   "metadata": {},
   "outputs": [
    {
     "ename": "TypeError",
     "evalue": "can only concatenate str (not \"int\") to str",
     "output_type": "error",
     "traceback": [
      "\u001b[1;31m---------------------------------------------------------------------------\u001b[0m",
      "\u001b[1;31mTypeError\u001b[0m                                 Traceback (most recent call last)",
      "\u001b[1;32m~\\AppData\\Local\\Temp/ipykernel_2212/2303724898.py\u001b[0m in \u001b[0;36m<module>\u001b[1;34m\u001b[0m\n\u001b[1;32m----> 1\u001b[1;33m \u001b[1;34m\"siva\"\u001b[0m\u001b[1;33m+\u001b[0m\u001b[1;36m2\u001b[0m\u001b[1;33m\u001b[0m\u001b[1;33m\u001b[0m\u001b[0m\n\u001b[0m",
      "\u001b[1;31mTypeError\u001b[0m: can only concatenate str (not \"int\") to str"
     ]
    }
   ],
   "source": [
    "\"siva\"+2"
   ]
  },
  {
   "cell_type": "markdown",
   "id": "dcde589c",
   "metadata": {},
   "source": [
    "## Note: to use + operator for Strings, compulsory both should be string type only"
   ]
  },
  {
   "cell_type": "code",
   "execution_count": null,
   "id": "20d61504",
   "metadata": {},
   "outputs": [],
   "source": [
    "\"Hari\"+\"krushna\""
   ]
  },
  {
   "cell_type": "code",
   "execution_count": null,
   "id": "de15129b",
   "metadata": {},
   "outputs": [],
   "source": [
    "user= \" jagannath\"\n",
    "lines=100\n",
    "print(\"Congratulationl, \"+user+\" ! You just wrote \"+ str(lines)+\" lines of code\")"
   ]
  },
  {
   "cell_type": "code",
   "execution_count": null,
   "id": "a098aec0",
   "metadata": {},
   "outputs": [],
   "source": [
    "print('Congatulation ',user,\"! You just wrote\",lines,\"lines of code\")"
   ]
  },
  {
   "cell_type": "markdown",
   "id": "0e41eb32",
   "metadata": {},
   "source": [
    "\n",
    "## String immutable"
   ]
  },
  {
   "cell_type": "code",
   "execution_count": null,
   "id": "caa608ee",
   "metadata": {},
   "outputs": [],
   "source": [
    "myString=\"Hello\"\n",
    "myString[4]"
   ]
  },
  {
   "cell_type": "code",
   "execution_count": null,
   "id": "82a9c46f",
   "metadata": {},
   "outputs": [],
   "source": [
    "# Strings are immutable . this means tha elements oof a string cannot be changed once it has been assigned\n",
    "#we can simply reasssign different string to the same name.\n",
    "mystring=\"Harikrushna\"\n",
    "mystring[5]=\"h\""
   ]
  },
  {
   "cell_type": "markdown",
   "id": "f2b07444",
   "metadata": {},
   "source": []
  },
  {
   "cell_type": "markdown",
   "id": "3a667a43",
   "metadata": {},
   "source": [
    "# String method"
   ]
  },
  {
   "cell_type": "markdown",
   "id": "52674c62",
   "metadata": {},
   "source": [
    "### strip()  -> remove the space from the string\n",
    "- rstrip() -> remove space at left hand side \n",
    "- lstrip) -> renmove space at right hand side\n",
    "\n",
    "- strip() -> reomve space form both side"
   ]
  },
  {
   "cell_type": "code",
   "execution_count": null,
   "id": "c7db8eef",
   "metadata": {},
   "outputs": [],
   "source": [
    "a=\" Python \""
   ]
  },
  {
   "cell_type": "code",
   "execution_count": 27,
   "id": "246f738e",
   "metadata": {},
   "outputs": [
    {
     "ename": "NameError",
     "evalue": "name 'a' is not defined",
     "output_type": "error",
     "traceback": [
      "\u001b[1;31m---------------------------------------------------------------------------\u001b[0m",
      "\u001b[1;31mNameError\u001b[0m                                 Traceback (most recent call last)",
      "\u001b[1;32m~\\AppData\\Local\\Temp/ipykernel_2212/1788998622.py\u001b[0m in \u001b[0;36m<module>\u001b[1;34m\u001b[0m\n\u001b[1;32m----> 1\u001b[1;33m \u001b[0ma\u001b[0m\u001b[1;33m.\u001b[0m\u001b[0mstrip\u001b[0m\u001b[1;33m(\u001b[0m\u001b[1;33m)\u001b[0m\u001b[1;33m\u001b[0m\u001b[1;33m\u001b[0m\u001b[0m\n\u001b[0m",
      "\u001b[1;31mNameError\u001b[0m: name 'a' is not defined"
     ]
    }
   ],
   "source": [
    "a.strip()"
   ]
  },
  {
   "cell_type": "code",
   "execution_count": null,
   "id": "8ffebf63",
   "metadata": {},
   "outputs": [],
   "source": [
    "a.lstrip()"
   ]
  },
  {
   "cell_type": "code",
   "execution_count": null,
   "id": "ec5819d2",
   "metadata": {},
   "outputs": [],
   "source": [
    "a.rstrip()"
   ]
  },
  {
   "cell_type": "code",
   "execution_count": null,
   "id": "5687a685",
   "metadata": {},
   "outputs": [],
   "source": [
    "a=\"gOod morNinIng\""
   ]
  },
  {
   "cell_type": "markdown",
   "id": "becbbe18",
   "metadata": {},
   "source": [
    "<b>capitalize</b> -> Capitalise only first letter  and remaining all to small ->  sentance case in MS.word"
   ]
  },
  {
   "cell_type": "code",
   "execution_count": null,
   "id": "0b964380",
   "metadata": {},
   "outputs": [],
   "source": [
    "a.capitalize()"
   ]
  },
  {
   "cell_type": "markdown",
   "id": "2580b418",
   "metadata": {},
   "source": [
    "<b>tittle</b>:-> Capatalize first letter of each word and emaining all to small"
   ]
  },
  {
   "cell_type": "code",
   "execution_count": 28,
   "id": "0a21cf17",
   "metadata": {},
   "outputs": [
    {
     "ename": "NameError",
     "evalue": "name 'a' is not defined",
     "output_type": "error",
     "traceback": [
      "\u001b[1;31m---------------------------------------------------------------------------\u001b[0m",
      "\u001b[1;31mNameError\u001b[0m                                 Traceback (most recent call last)",
      "\u001b[1;32m~\\AppData\\Local\\Temp/ipykernel_2212/1495283341.py\u001b[0m in \u001b[0;36m<module>\u001b[1;34m\u001b[0m\n\u001b[1;32m----> 1\u001b[1;33m \u001b[0ma\u001b[0m\u001b[1;33m.\u001b[0m\u001b[0mtitle\u001b[0m\u001b[1;33m(\u001b[0m\u001b[1;33m)\u001b[0m\u001b[1;33m\u001b[0m\u001b[1;33m\u001b[0m\u001b[0m\n\u001b[0m",
      "\u001b[1;31mNameError\u001b[0m: name 'a' is not defined"
     ]
    }
   ],
   "source": [
    "a.title()"
   ]
  },
  {
   "cell_type": "markdown",
   "id": "67ceccb8",
   "metadata": {},
   "source": [
    "<b>upper</b>-> convert complete string to upper case"
   ]
  },
  {
   "cell_type": "code",
   "execution_count": null,
   "id": "00a3ed7b",
   "metadata": {},
   "outputs": [],
   "source": [
    "a.upper()"
   ]
  },
  {
   "cell_type": "markdown",
   "id": "0cd5cfac",
   "metadata": {},
   "source": [
    "<b>lower</b>-> convert complete string to lower case"
   ]
  },
  {
   "cell_type": "code",
   "execution_count": 29,
   "id": "22a3e7c6",
   "metadata": {},
   "outputs": [
    {
     "ename": "NameError",
     "evalue": "name 'a' is not defined",
     "output_type": "error",
     "traceback": [
      "\u001b[1;31m---------------------------------------------------------------------------\u001b[0m",
      "\u001b[1;31mNameError\u001b[0m                                 Traceback (most recent call last)",
      "\u001b[1;32m~\\AppData\\Local\\Temp/ipykernel_2212/1667061174.py\u001b[0m in \u001b[0;36m<module>\u001b[1;34m\u001b[0m\n\u001b[1;32m----> 1\u001b[1;33m \u001b[0ma\u001b[0m\u001b[1;33m.\u001b[0m\u001b[0mlower\u001b[0m\u001b[1;33m(\u001b[0m\u001b[1;33m)\u001b[0m\u001b[1;33m\u001b[0m\u001b[1;33m\u001b[0m\u001b[0m\n\u001b[0m",
      "\u001b[1;31mNameError\u001b[0m: name 'a' is not defined"
     ]
    }
   ],
   "source": [
    "a.lower()"
   ]
  },
  {
   "cell_type": "markdown",
   "id": "cc3f0ba0",
   "metadata": {},
   "source": [
    "<b>find()</b>-> To find a string in the input string"
   ]
  },
  {
   "cell_type": "code",
   "execution_count": null,
   "id": "8315ca86",
   "metadata": {},
   "outputs": [],
   "source": [
    "a.find('o')\n",
    "# It returns the index position of the string if avialable\n",
    "# it reeturns -1  if not avialable"
   ]
  },
  {
   "cell_type": "markdown",
   "id": "6ce9a704",
   "metadata": {},
   "source": [
    "<b>count()</b>-> To count how many times the string avialable in the main string"
   ]
  },
  {
   "cell_type": "code",
   "execution_count": 30,
   "id": "c962a95f",
   "metadata": {},
   "outputs": [
    {
     "ename": "NameError",
     "evalue": "name 'a' is not defined",
     "output_type": "error",
     "traceback": [
      "\u001b[1;31m---------------------------------------------------------------------------\u001b[0m",
      "\u001b[1;31mNameError\u001b[0m                                 Traceback (most recent call last)",
      "\u001b[1;32m~\\AppData\\Local\\Temp/ipykernel_2212/3375724501.py\u001b[0m in \u001b[0;36m<module>\u001b[1;34m\u001b[0m\n\u001b[1;32m----> 1\u001b[1;33m \u001b[0ma\u001b[0m\u001b[1;33m.\u001b[0m\u001b[0mcount\u001b[0m\u001b[1;33m(\u001b[0m\u001b[1;34m'o'\u001b[0m\u001b[1;33m)\u001b[0m\u001b[1;33m\u001b[0m\u001b[1;33m\u001b[0m\u001b[0m\n\u001b[0m",
      "\u001b[1;31mNameError\u001b[0m: name 'a' is not defined"
     ]
    }
   ],
   "source": [
    "a.count('o')"
   ]
  },
  {
   "cell_type": "markdown",
   "id": "40eb97bb",
   "metadata": {},
   "source": [
    "<b>split</b>-> it split the string in he bases of space"
   ]
  },
  {
   "cell_type": "code",
   "execution_count": null,
   "id": "f9440082",
   "metadata": {},
   "outputs": [],
   "source": [
    "str=\" my name is radhesyam\""
   ]
  },
  {
   "cell_type": "code",
   "execution_count": null,
   "id": "266ed1dd",
   "metadata": {},
   "outputs": [],
   "source": [
    "str.split()"
   ]
  },
  {
   "cell_type": "markdown",
   "id": "aaf41f47",
   "metadata": {},
   "source": [
    "<b> join \n",
    "</b>-> \n",
    "\n"
   ]
  },
  {
   "cell_type": "code",
   "execution_count": null,
   "id": "aa1dd3c7",
   "metadata": {},
   "outputs": [],
   "source": [
    "a=[\"data\",\"science\"]\n",
    "''.join(a)"
   ]
  },
  {
   "cell_type": "markdown",
   "id": "b655cde9",
   "metadata": {},
   "source": [
    "<b>replace</b>->"
   ]
  },
  {
   "cell_type": "code",
   "execution_count": 31,
   "id": "5716adca",
   "metadata": {},
   "outputs": [
    {
     "name": "stdout",
     "output_type": "stream",
     "text": [
      " Good Morning\n"
     ]
    },
    {
     "data": {
      "text/plain": [
       "2241471894256"
      ]
     },
     "execution_count": 31,
     "metadata": {},
     "output_type": "execute_result"
    }
   ],
   "source": [
    "# To replcae the old  string with newstring\n",
    "s1= \" Good Morning\"\n",
    "print(s1)\n",
    "id(s1)"
   ]
  },
  {
   "cell_type": "code",
   "execution_count": 32,
   "id": "49031338",
   "metadata": {},
   "outputs": [
    {
     "name": "stdout",
     "output_type": "stream",
     "text": [
      " Late Morning\n"
     ]
    },
    {
     "data": {
      "text/plain": [
       "2241471161968"
      ]
     },
     "execution_count": 32,
     "metadata": {},
     "output_type": "execute_result"
    }
   ],
   "source": [
    "s1=s1.replace(\"Good\",\"Late\")\n",
    "print(s1)\n",
    "id(s1)"
   ]
  },
  {
   "cell_type": "code",
   "execution_count": 33,
   "id": "11853c4f",
   "metadata": {},
   "outputs": [
    {
     "name": "stdout",
     "output_type": "stream",
     "text": [
      "False\n",
      "False\n",
      "False\n",
      "False\n",
      "False\n",
      "False\n",
      "False\n",
      "False\n",
      "False\n"
     ]
    }
   ],
   "source": [
    "mystr='Nila khanta'\n",
    "print(mystr.isdigit())       #test if string contains only numbers\n",
    "print(mystr.isalnum())          #check if it is alphanumeric\n",
    "print(mystr.isalpha())           #check if all char in the string are alphabetic\n",
    "print(mystr.istitle())           #test if string contains titel words\n",
    "print(mystr.isupper())          #test if string contains  upper case\n",
    "print(mystr.islower())            #test if string containd lower case\n",
    "print(mystr.isspace())           #test if string contains spaces\n",
    "print(mystr.endswith('s'))         #test if string  enswith a s\n",
    "print(mystr.startswith('s'))      #test if string start with s"
   ]
  },
  {
   "cell_type": "markdown",
   "id": "d837f614",
   "metadata": {},
   "source": [
    "# Input\n",
    "- <b> want to take the input from the user. In Python, we have the input() function to allow this.\n",
    "    \n",
    "- <b> by default it takes as \"str\" datatype"
   ]
  },
  {
   "cell_type": "code",
   "execution_count": null,
   "id": "3687f1da",
   "metadata": {},
   "outputs": [],
   "source": [
    "n=input()"
   ]
  },
  {
   "cell_type": "code",
   "execution_count": null,
   "id": "5bd3b381",
   "metadata": {},
   "outputs": [],
   "source": [
    "n"
   ]
  },
  {
   "cell_type": "code",
   "execution_count": null,
   "id": "aca1d379",
   "metadata": {},
   "outputs": [],
   "source": [
    "type(n)"
   ]
  },
  {
   "cell_type": "code",
   "execution_count": null,
   "id": "ee7086e0",
   "metadata": {},
   "outputs": [],
   "source": [
    "n1=input('enter your age:')\n",
    "n1"
   ]
  },
  {
   "cell_type": "code",
   "execution_count": null,
   "id": "1867f23e",
   "metadata": {},
   "outputs": [],
   "source": [
    "type(n1)"
   ]
  },
  {
   "cell_type": "code",
   "execution_count": null,
   "id": "040d4872",
   "metadata": {},
   "outputs": [],
   "source": [
    "n2=int(input(\"enter your age:\"))\n",
    "n2"
   ]
  },
  {
   "cell_type": "code",
   "execution_count": null,
   "id": "b4554411",
   "metadata": {},
   "outputs": [],
   "source": [
    "type(n2)"
   ]
  },
  {
   "cell_type": "code",
   "execution_count": null,
   "id": "0821e494",
   "metadata": {},
   "outputs": [],
   "source": [
    "#Let's have one more example\n",
    "name= input('What is your name? ')\n",
    "print(\"It was nice talking you \"+name +\"!\")"
   ]
  },
  {
   "cell_type": "code",
   "execution_count": null,
   "id": "86adc772",
   "metadata": {},
   "outputs": [],
   "source": [
    "age= input(\"Enter your age? \")\n",
    "print('Hey, you are already '+age+\"years old, \"+ name+\"!\")"
   ]
  },
  {
   "cell_type": "markdown",
   "id": "30a6a0c8",
   "metadata": {},
   "source": [
    "# List\n",
    "  - <b>It is one of the most used datatype in Python and is very flexible.\n",
    "<b>mpty List\n",
    "    - To create an empty list, you can use empty square brackets or use the list() function with no arguments "
   ]
  },
  {
   "cell_type": "code",
   "execution_count": null,
   "id": "5976afef",
   "metadata": {},
   "outputs": [],
   "source": [
    "l=[]  ## EmptyList\n",
    "l"
   ]
  },
  {
   "cell_type": "code",
   "execution_count": null,
   "id": "452cdb5e",
   "metadata": {},
   "outputs": [],
   "source": [
    "l=list() ##EmptyList\n",
    "l"
   ]
  },
  {
   "cell_type": "markdown",
   "id": "b98cd809",
   "metadata": {},
   "source": [
    "- <b> list is an order sequence of items.\n",
    "-  <b>Each element or value that is inside of a list is called an item\n",
    "- <b>Declaring a list is , Items seperated by commas are enclosed within brackets[ ]."
   ]
  },
  {
   "cell_type": "code",
   "execution_count": null,
   "id": "9ccaca79",
   "metadata": {},
   "outputs": [],
   "source": [
    "l1=[1,2,3,4]\n",
    "l1"
   ]
  },
  {
   "cell_type": "markdown",
   "id": "40cbda5d",
   "metadata": {},
   "source": [
    "- <b>All the items in a list do not need to be of the same type (heterogenous)."
   ]
  },
  {
   "cell_type": "code",
   "execution_count": null,
   "id": "6d13a38a",
   "metadata": {},
   "outputs": [],
   "source": [
    "l1=[1,0.2,1+3j,True,'new']\n",
    "l1"
   ]
  },
  {
   "cell_type": "markdown",
   "id": "70619e86",
   "metadata": {},
   "source": [
    "\n",
    "### Length of list"
   ]
  },
  {
   "cell_type": "code",
   "execution_count": null,
   "id": "059e389b",
   "metadata": {},
   "outputs": [],
   "source": [
    "list=[10,20.5,\"Hellol\"]\n",
    "len(list)"
   ]
  },
  {
   "cell_type": "markdown",
   "id": "3ea2c65f",
   "metadata": {},
   "source": [
    "### Nested list"
   ]
  },
  {
   "cell_type": "code",
   "execution_count": null,
   "id": "dfc89097",
   "metadata": {},
   "outputs": [],
   "source": [
    "nest=[1,[3,5],6,5,8]\n",
    "print(nest)"
   ]
  },
  {
   "cell_type": "code",
   "execution_count": null,
   "id": "03d23d58",
   "metadata": {},
   "outputs": [],
   "source": [
    "len(nest)"
   ]
  },
  {
   "cell_type": "markdown",
   "id": "b02f0d3d",
   "metadata": {},
   "source": [
    "### List indexing"
   ]
  },
  {
   "cell_type": "code",
   "execution_count": null,
   "id": "7ff08c6c",
   "metadata": {},
   "outputs": [],
   "source": [
    "nest[0]"
   ]
  },
  {
   "cell_type": "code",
   "execution_count": null,
   "id": "25aa87db",
   "metadata": {},
   "outputs": [],
   "source": [
    "nest[1]"
   ]
  },
  {
   "cell_type": "code",
   "execution_count": null,
   "id": "21f4a7e8",
   "metadata": {},
   "outputs": [],
   "source": [
    "nest[2]"
   ]
  },
  {
   "cell_type": "code",
   "execution_count": null,
   "id": "d886df76",
   "metadata": {},
   "outputs": [],
   "source": [
    "nest[3]"
   ]
  },
  {
   "cell_type": "code",
   "execution_count": null,
   "id": "fc603c00",
   "metadata": {},
   "outputs": [],
   "source": [
    "nest[1][0]"
   ]
  },
  {
   "cell_type": "code",
   "execution_count": null,
   "id": "3280b544",
   "metadata": {},
   "outputs": [],
   "source": [
    "nest[2][0]"
   ]
  },
  {
   "cell_type": "code",
   "execution_count": null,
   "id": "0172a8c7",
   "metadata": {},
   "outputs": [],
   "source": [
    "a=[1,3,[4,6,[8,\"hello\",6]],45,99]\n",
    "a[3]"
   ]
  },
  {
   "cell_type": "markdown",
   "id": "f3babc61",
   "metadata": {},
   "source": [
    "###  Lists are Muable\n",
    "<b>Mutable:</b> value of elements of a list can be alterred in the same object"
   ]
  },
  {
   "cell_type": "code",
   "execution_count": null,
   "id": "150cd1a1",
   "metadata": {},
   "outputs": [],
   "source": [
    "a=[1,2,3]\n",
    "print(a)\n",
    "id(a)"
   ]
  },
  {
   "cell_type": "code",
   "execution_count": null,
   "id": "b6519ba8",
   "metadata": {},
   "outputs": [],
   "source": [
    "a[1]=20\n",
    "print(a)\n",
    "\n",
    "id(a)"
   ]
  },
  {
   "cell_type": "markdown",
   "id": "16e00f53",
   "metadata": {},
   "source": [
    "<b> List slicing"
   ]
  },
  {
   "cell_type": "code",
   "execution_count": null,
   "id": "1d0b0306",
   "metadata": {},
   "outputs": [],
   "source": [
    "numbers=[10,20,30,40,50,60,70,80]\n",
    "numbers[0:4]"
   ]
  },
  {
   "cell_type": "markdown",
   "id": "f9098484",
   "metadata": {},
   "source": [
    "<b> list conctentation"
   ]
  },
  {
   "cell_type": "code",
   "execution_count": null,
   "id": "06fc9706",
   "metadata": {},
   "outputs": [],
   "source": [
    "l1=[\"dsad\",'b','c']\n",
    "l2=['a',6,4.0]\n",
    "l3=l1+l2\n",
    "print(l3)"
   ]
  },
  {
   "cell_type": "markdown",
   "id": "3d81cce6",
   "metadata": {},
   "source": [
    "# List Methods\n",
    "<b>list.append()--></b> append is used to add elements in the list and it will add the item at the end"
   ]
  },
  {
   "cell_type": "code",
   "execution_count": null,
   "id": "7d93bae1",
   "metadata": {},
   "outputs": [],
   "source": [
    "list=[10,20,30,40,50,60]\n",
    "list.append([99])\n",
    "list"
   ]
  },
  {
   "cell_type": "code",
   "execution_count": null,
   "id": "87af4c16",
   "metadata": {},
   "outputs": [],
   "source": [
    "lst=[10,20,30,40,50,60]\n",
    "lst.append([8,9])\n",
    "lst"
   ]
  },
  {
   "cell_type": "markdown",
   "id": "5733fc5e",
   "metadata": {},
   "source": [
    "<b>list.extend()-</b>it adds individually item at end"
   ]
  },
  {
   "cell_type": "code",
   "execution_count": null,
   "id": "28d9c9c5",
   "metadata": {},
   "outputs": [],
   "source": [
    "list=[10,20,30,40,50,60]\n",
    "list.extend([8,9])\n",
    "list"
   ]
  },
  {
   "cell_type": "code",
   "execution_count": null,
   "id": "50b205bc",
   "metadata": {},
   "outputs": [],
   "source": [
    "l=[1,2,3,4,5,6]\n",
    "l.extend([1,[8,9],24,[9,90]])\n",
    "l\n"
   ]
  },
  {
   "cell_type": "markdown",
   "id": "ff8d77c9",
   "metadata": {},
   "source": [
    "<b>list.insert() -></b> insert in a specific order and list.insert(x,y) will add element y at location x"
   ]
  },
  {
   "cell_type": "code",
   "execution_count": null,
   "id": "9367b6e8",
   "metadata": {},
   "outputs": [],
   "source": [
    "lst=['one','two','four']\n",
    "lst.insert(2,\"three\")\n",
    "print(lst)"
   ]
  },
  {
   "cell_type": "markdown",
   "id": "ec294e4e",
   "metadata": {},
   "source": [
    "<b>list.remove() -></b> to remove an item based on value"
   ]
  },
  {
   "cell_type": "markdown",
   "id": "5de44be4",
   "metadata": {},
   "source": [
    "numbers=[10,20,30,40,50]\n",
    "numbers.remove(10)\n",
    "numbers"
   ]
  },
  {
   "cell_type": "markdown",
   "id": "d31e7b1f",
   "metadata": {},
   "source": [
    "<b>list.pop-> </b> to remove an item based on index number"
   ]
  },
  {
   "cell_type": "code",
   "execution_count": null,
   "id": "e9d71368",
   "metadata": {},
   "outputs": [],
   "source": [
    "number=[1,35,3,6,8]\n",
    "number.pop(3)\n",
    "number"
   ]
  },
  {
   "cell_type": "markdown",
   "id": "1a95ea7e",
   "metadata": {},
   "source": [
    "### del ->"
   ]
  },
  {
   "cell_type": "code",
   "execution_count": null,
   "id": "2930e3a3",
   "metadata": {},
   "outputs": [],
   "source": [
    "number=[1,2,3,5,8,6,9,7,4,89]\n",
    "del number[0:5]\n",
    "number"
   ]
  },
  {
   "cell_type": "code",
   "execution_count": null,
   "id": "e94bd530",
   "metadata": {},
   "outputs": [],
   "source": [
    "number=[1,2,3,5,8,6,9,7,4,89]\n",
    "del number[0::5]\n",
    "number"
   ]
  },
  {
   "cell_type": "markdown",
   "id": "deb4644b",
   "metadata": {},
   "source": [
    "<b>list.clear() -></b>  clear all elements in a list and returns empty list"
   ]
  },
  {
   "cell_type": "code",
   "execution_count": null,
   "id": "ecc13dd2",
   "metadata": {},
   "outputs": [],
   "source": [
    "a=[1,2,3,4]\n",
    "a.clear()\n",
    "a.extend([5,6,7,8])\n",
    "print(a)"
   ]
  },
  {
   "cell_type": "markdown",
   "id": "8b8d996c",
   "metadata": {},
   "source": [
    "<b>list.reverse()-></b> it reverse the entire list"
   ]
  },
  {
   "cell_type": "code",
   "execution_count": null,
   "id": "755b499c",
   "metadata": {},
   "outputs": [],
   "source": [
    "l=[1,4,53,2,5,7,[3,5]]\n",
    "l.reverse()\n",
    "l"
   ]
  },
  {
   "cell_type": "markdown",
   "id": "f527ef11",
   "metadata": {},
   "source": [
    "<b>list.sort() -></b> it sorts either in ascendeing order or descending order"
   ]
  },
  {
   "cell_type": "code",
   "execution_count": null,
   "id": "685e5f1c",
   "metadata": {},
   "outputs": [],
   "source": [
    "lst=[1,23,46,4.3]\n",
    "lst.sort()\n",
    "lst          #ASCENDEING ORDER"
   ]
  },
  {
   "cell_type": "code",
   "execution_count": null,
   "id": "a09ce83d",
   "metadata": {},
   "outputs": [],
   "source": [
    "lst=[1,23,46,4.3]\n",
    "lst.sort(reverse=True)\n",
    "lst              #descending order"
   ]
  },
  {
   "cell_type": "code",
   "execution_count": null,
   "id": "adb84bab",
   "metadata": {},
   "outputs": [],
   "source": [
    "l=['aef','b','c','d']\n",
    "l.sort()\n",
    "l"
   ]
  },
  {
   "cell_type": "code",
   "execution_count": null,
   "id": "bb0bd1ea",
   "metadata": {},
   "outputs": [],
   "source": [
    "lst=[1,20,'b',5,'a']\n",
    "print(lst.sort())"
   ]
  },
  {
   "cell_type": "markdown",
   "id": "7f68a6de",
   "metadata": {},
   "source": [
    "<b>Note:</b> Sort is applicable for either only alphabet or only numeric valus only"
   ]
  },
  {
   "cell_type": "code",
   "execution_count": null,
   "id": "23ea4c1f",
   "metadata": {},
   "outputs": [],
   "source": [
    "lst=[1,23,4,2.3]\n",
    "sorted(lst)         "
   ]
  },
  {
   "cell_type": "code",
   "execution_count": null,
   "id": "53a2bffd",
   "metadata": {},
   "outputs": [],
   "source": [
    "lst"
   ]
  },
  {
   "cell_type": "markdown",
   "id": "287a9137",
   "metadata": {},
   "source": [
    "<b>list.count() -></b> frequent of value in a list"
   ]
  },
  {
   "cell_type": "code",
   "execution_count": null,
   "id": "54716fec",
   "metadata": {},
   "outputs": [],
   "source": [
    "number=[1,23,4,56,7,43,44,52,32,23]\n",
    "print(number.count(1))"
   ]
  },
  {
   "cell_type": "markdown",
   "id": "1828e87c",
   "metadata": {},
   "source": [
    "- <b>Swallow copy:</b>\n",
    "whatever changes are made in the copied object, its going to reflect in the original and viceversa"
   ]
  },
  {
   "cell_type": "code",
   "execution_count": null,
   "id": "2503b96d",
   "metadata": {},
   "outputs": [],
   "source": [
    "#Swallow copy\n",
    "l1=[1,2,3]\n",
    "l2=l1\n",
    "l2.append(4)\n",
    "print(l1)\n",
    "print(l2)"
   ]
  },
  {
   "cell_type": "markdown",
   "id": "4eacfe13",
   "metadata": {},
   "source": [
    "- <b>Deep Copy/carbon copy:</b>\n",
    "    whatever changes are made in the copied object, its not going to reflect in the original"
   ]
  },
  {
   "cell_type": "markdown",
   "id": "d5fde040",
   "metadata": {},
   "source": [
    "<b>list.copy()</b>"
   ]
  },
  {
   "cell_type": "code",
   "execution_count": null,
   "id": "aa4fa9e9",
   "metadata": {},
   "outputs": [],
   "source": [
    "#Deep Copy/carbon copy\n",
    "l1=[1,2,3]\n",
    "l2=l1.copy()\n",
    "l2.append(4)\n",
    "print(l1)\n",
    "print(l2)"
   ]
  },
  {
   "cell_type": "markdown",
   "id": "27293fe4",
   "metadata": {},
   "source": [
    "# Tuples\n",
    "1. Tuple is similar to List except tuple are immutable which means we cannot change the elements of a tuplel           once assigned.\n",
    "2. When we do not want to change the data over time,tuple is a preferred data type.\n",
    "3. Iterating over the elements of a tuple is faster compered to iteating over a list.\n",
    "\n",
    "<b>Empty tuple</b>"
   ]
  },
  {
   "cell_type": "code",
   "execution_count": null,
   "id": "88450017",
   "metadata": {},
   "outputs": [],
   "source": [
    "tup1=()\n",
    "tup1"
   ]
  },
  {
   "cell_type": "code",
   "execution_count": null,
   "id": "81eedcf3",
   "metadata": {},
   "outputs": [],
   "source": [
    "type(tup1)"
   ]
  },
  {
   "cell_type": "code",
   "execution_count": null,
   "id": "28fb6506",
   "metadata": {},
   "outputs": [],
   "source": [
    "tup2=tuple()\n",
    "tup2"
   ]
  },
  {
   "cell_type": "markdown",
   "id": "0d1f08c7",
   "metadata": {},
   "source": [
    "- Tuple is heterogenous"
   ]
  },
  {
   "cell_type": "code",
   "execution_count": null,
   "id": "a6cdb21f",
   "metadata": {},
   "outputs": [],
   "source": [
    "t=(1,0.3,1+3j,True,'new',[1,4])\n",
    "t"
   ]
  },
  {
   "cell_type": "markdown",
   "id": "df167baf",
   "metadata": {},
   "source": [
    "<b>Nested tuple</b>"
   ]
  },
  {
   "cell_type": "code",
   "execution_count": null,
   "id": "a1355d2f",
   "metadata": {},
   "outputs": [],
   "source": [
    "tup=('siva',25,25.0,1+2j,True,[50,100],(99,22,33))\n",
    "tup"
   ]
  },
  {
   "cell_type": "markdown",
   "id": "39c8d93b",
   "metadata": {},
   "source": [
    "<b>Tuple indexing</b>"
   ]
  },
  {
   "cell_type": "code",
   "execution_count": null,
   "id": "4cb2151f",
   "metadata": {},
   "outputs": [],
   "source": [
    "tup[0]"
   ]
  },
  {
   "cell_type": "code",
   "execution_count": null,
   "id": "dc9e83d7",
   "metadata": {},
   "outputs": [],
   "source": [
    "tup[-1][2]"
   ]
  },
  {
   "cell_type": "markdown",
   "id": "7c74dca5",
   "metadata": {},
   "source": [
    "<b>Tuple Slicing</b>"
   ]
  },
  {
   "cell_type": "code",
   "execution_count": null,
   "id": "e026d593",
   "metadata": {},
   "outputs": [],
   "source": [
    "tup[0:3]"
   ]
  },
  {
   "cell_type": "markdown",
   "id": "a78db2ff",
   "metadata": {},
   "source": [
    "<b>Tuples are immutable</b>"
   ]
  },
  {
   "cell_type": "code",
   "execution_count": null,
   "id": "58a003e4",
   "metadata": {},
   "outputs": [],
   "source": [
    "mytuple=(2,4,3,7,0)\n",
    "mytuple[0]"
   ]
  },
  {
   "cell_type": "code",
   "execution_count": null,
   "id": "e0e182bc",
   "metadata": {},
   "outputs": [],
   "source": [
    "del mytuple[0]"
   ]
  },
  {
   "cell_type": "code",
   "execution_count": null,
   "id": "cf8b20bb",
   "metadata": {},
   "outputs": [],
   "source": [
    "mytuple[0]=10"
   ]
  },
  {
   "cell_type": "code",
   "execution_count": null,
   "id": "04bb96ac",
   "metadata": {},
   "outputs": [],
   "source": [
    "del mytuple    # delete entire tuple objectis possible"
   ]
  },
  {
   "cell_type": "markdown",
   "id": "adc03844",
   "metadata": {},
   "source": [
    "# <b>INTERVIEW QUESTION</b>"
   ]
  },
  {
   "cell_type": "code",
   "execution_count": null,
   "id": "69a86f5c",
   "metadata": {},
   "outputs": [],
   "source": [
    "tup=(1,2,3,[4,5],(10,11,12))"
   ]
  },
  {
   "cell_type": "code",
   "execution_count": null,
   "id": "af6c74dc",
   "metadata": {},
   "outputs": [],
   "source": [
    "tup[3][0]"
   ]
  },
  {
   "cell_type": "code",
   "execution_count": null,
   "id": "f226f9e9",
   "metadata": {},
   "outputs": [],
   "source": [
    "tup"
   ]
  },
  {
   "cell_type": "code",
   "execution_count": null,
   "id": "ac8221d7",
   "metadata": {},
   "outputs": [],
   "source": [
    "tup[3]=50\n",
    "tup"
   ]
  },
  {
   "cell_type": "markdown",
   "id": "675583e4",
   "metadata": {},
   "source": [
    "# <b>Tuple Methods</b>"
   ]
  },
  {
   "cell_type": "code",
   "execution_count": null,
   "id": "a23148da",
   "metadata": {},
   "outputs": [],
   "source": [
    "mytuple1=('one','two','three','four','five','two','three','four','two')"
   ]
  },
  {
   "cell_type": "markdown",
   "id": "ed2bc6ad",
   "metadata": {},
   "source": [
    "<b>tuple.count()</b>-> Number of times item occured in the tuple."
   ]
  },
  {
   "cell_type": "code",
   "execution_count": null,
   "id": "47577995",
   "metadata": {},
   "outputs": [],
   "source": [
    "mytuple1.count('two') # Number of times item \"two\"occuredin the tuple"
   ]
  },
  {
   "cell_type": "markdown",
   "id": "c85a8beb",
   "metadata": {},
   "source": [
    "<b>tuple.index()</b>"
   ]
  },
  {
   "cell_type": "code",
   "execution_count": null,
   "id": "0bc37c17",
   "metadata": {},
   "outputs": [],
   "source": [
    "mytuple1.index(\"two\")"
   ]
  },
  {
   "cell_type": "markdown",
   "id": "350110eb",
   "metadata": {},
   "source": [
    "+ <b>sorting</b>"
   ]
  },
  {
   "cell_type": "code",
   "execution_count": null,
   "id": "72786c54",
   "metadata": {},
   "outputs": [],
   "source": [
    "mytuple=(43,58,45,7,89,6,9,56)\n",
    "tuple(sorted(mytuple))"
   ]
  },
  {
   "cell_type": "code",
   "execution_count": null,
   "id": "b3283860",
   "metadata": {},
   "outputs": [],
   "source": [
    "mytuple"
   ]
  },
  {
   "cell_type": "markdown",
   "id": "9bdf42a5",
   "metadata": {},
   "source": [
    "# Sets\n",
    "- set can be useds to perform mathematical set operations like union, intersection, symmetric different etc."
   ]
  },
  {
   "cell_type": "markdown",
   "id": "f328c7f6",
   "metadata": {},
   "source": [
    "<b>emptyset</b>"
   ]
  },
  {
   "cell_type": "code",
   "execution_count": null,
   "id": "e1fd1e1b",
   "metadata": {},
   "outputs": [],
   "source": [
    "set_var=set()\n",
    "print(set_var)\n",
    "type(set_var)"
   ]
  },
  {
   "cell_type": "markdown",
   "id": "a7eddc6f",
   "metadata": {},
   "source": [
    "- A set is an unordered collection of items.\n",
    "- Set is defined by values seperated by comma inside brace{}."
   ]
  },
  {
   "cell_type": "code",
   "execution_count": null,
   "id": "494fba59",
   "metadata": {},
   "outputs": [],
   "source": [
    "a={10,30,20,40,5,'a'}\n",
    "print(a)"
   ]
  },
  {
   "cell_type": "markdown",
   "id": "dbbfa83c",
   "metadata": {},
   "source": [
    "- Every element is unique (no duplicate)."
   ]
  },
  {
   "cell_type": "code",
   "execution_count": null,
   "id": "6b9c4128",
   "metadata": {},
   "outputs": [],
   "source": [
    "s={10,4,25,62,25,25,5}\n",
    "print(s)"
   ]
  },
  {
   "cell_type": "markdown",
   "id": "26644b2e",
   "metadata": {},
   "source": [
    "###  Set does'not support indexing, because it's unorder collection of item"
   ]
  },
  {
   "cell_type": "code",
   "execution_count": null,
   "id": "84d22cb1",
   "metadata": {},
   "outputs": [],
   "source": [
    "print(s[1])"
   ]
  },
  {
   "cell_type": "markdown",
   "id": "68b9e4ec",
   "metadata": {},
   "source": [
    "- <b> creating Set by using a list</b>"
   ]
  },
  {
   "cell_type": "code",
   "execution_count": null,
   "id": "d8124316",
   "metadata": {},
   "outputs": [],
   "source": [
    "l=[1,2,34,5,6,5,67,8,89]\n",
    "s=set(l)\n",
    "print(s)"
   ]
  },
  {
   "cell_type": "markdown",
   "id": "56bdad03",
   "metadata": {},
   "source": [
    "- <b> creatiing Set by using tuples</b>"
   ]
  },
  {
   "cell_type": "code",
   "execution_count": null,
   "id": "bd1ef358",
   "metadata": {},
   "outputs": [],
   "source": [
    "t=('a','b','c')\n",
    "tup_set=set(t)\n",
    "tup_set"
   ]
  },
  {
   "cell_type": "markdown",
   "id": "bbec68b6",
   "metadata": {},
   "source": [
    "# Set Methods"
   ]
  },
  {
   "cell_type": "code",
   "execution_count": null,
   "id": "0a6594f3",
   "metadata": {
    "scrolled": true
   },
   "outputs": [],
   "source": [
    "c=set()\n",
    "c"
   ]
  },
  {
   "cell_type": "markdown",
   "id": "1d75c224",
   "metadata": {},
   "source": [
    "<b>set.add()</b>-->we can add single element"
   ]
  },
  {
   "cell_type": "code",
   "execution_count": null,
   "id": "361f4683",
   "metadata": {},
   "outputs": [],
   "source": [
    "c.add(3)\n",
    "c"
   ]
  },
  {
   "cell_type": "markdown",
   "id": "381983d6",
   "metadata": {},
   "source": [
    "<b>set.update()</b>--> add multiple element"
   ]
  },
  {
   "cell_type": "code",
   "execution_count": null,
   "id": "db96f989",
   "metadata": {},
   "outputs": [],
   "source": [
    "s={3,4}\n",
    "s.update([5,6,8])\n",
    "print(s)"
   ]
  },
  {
   "cell_type": "markdown",
   "id": "0462db96",
   "metadata": {},
   "source": [
    "<b>set.copy()</b>--> copy complete set"
   ]
  },
  {
   "cell_type": "code",
   "execution_count": null,
   "id": "c4820c1d",
   "metadata": {},
   "outputs": [],
   "source": [
    "c={3,5,4}\n",
    "d=c.copy()\n",
    "d.add(6)\n",
    "print(d)\n",
    "print(c)"
   ]
  },
  {
   "cell_type": "markdown",
   "id": "4d701b69",
   "metadata": {},
   "source": [
    "<b>set.discard()</b>-->remove the particular value if it is aviable"
   ]
  },
  {
   "cell_type": "code",
   "execution_count": null,
   "id": "ca00c887",
   "metadata": {},
   "outputs": [],
   "source": [
    "s={1,2,3,4,5,8}\n",
    "print(s)"
   ]
  },
  {
   "cell_type": "code",
   "execution_count": null,
   "id": "e17e71ee",
   "metadata": {},
   "outputs": [],
   "source": [
    "s.discard(4)\n",
    "print(s)"
   ]
  },
  {
   "cell_type": "code",
   "execution_count": null,
   "id": "26e06839",
   "metadata": {},
   "outputs": [],
   "source": [
    "s.discard(7)\n",
    "s"
   ]
  },
  {
   "cell_type": "markdown",
   "id": "a15ddc66",
   "metadata": {},
   "source": [
    "<b>set.remove()</b>-->  remove the particular value if it is available, else print error"
   ]
  },
  {
   "cell_type": "code",
   "execution_count": null,
   "id": "652b1b91",
   "metadata": {},
   "outputs": [],
   "source": [
    "s.remove(10)\n",
    "s"
   ]
  },
  {
   "cell_type": "markdown",
   "id": "d9f05193",
   "metadata": {},
   "source": [
    "<b>set.clear()</b>-->  it deletes all items in set"
   ]
  },
  {
   "cell_type": "code",
   "execution_count": null,
   "id": "0e78b7c0",
   "metadata": {},
   "outputs": [],
   "source": [
    "s={1,3,4,5,6,8,9}\n",
    "s.clear()\n",
    "print(s)"
   ]
  },
  {
   "cell_type": "code",
   "execution_count": null,
   "id": "561792d7",
   "metadata": {},
   "outputs": [],
   "source": [
    "s={1,5,2,3,6}\n",
    "del s\n",
    "print(s)"
   ]
  },
  {
   "cell_type": "markdown",
   "id": "62af447d",
   "metadata": {},
   "source": [
    "# SetOperations"
   ]
  },
  {
   "cell_type": "code",
   "execution_count": null,
   "id": "c351d756",
   "metadata": {},
   "outputs": [],
   "source": [
    "set1={1,2,3,4,6}\n",
    "set2={3,5,6,7,9}"
   ]
  },
  {
   "cell_type": "markdown",
   "id": "50bd4ea6",
   "metadata": {},
   "source": [
    "- <b>Union</b>"
   ]
  },
  {
   "cell_type": "code",
   "execution_count": null,
   "id": "de9709ca",
   "metadata": {},
   "outputs": [],
   "source": [
    "set1.union(set2)"
   ]
  },
  {
   "cell_type": "markdown",
   "id": "1a220000",
   "metadata": {},
   "source": [
    "- intersection"
   ]
  },
  {
   "cell_type": "code",
   "execution_count": null,
   "id": "94a1f45b",
   "metadata": {},
   "outputs": [],
   "source": [
    "set1.intersection(set2)"
   ]
  },
  {
   "cell_type": "markdown",
   "id": "4c277867",
   "metadata": {},
   "source": [
    "- difference: set of elements that are only in set1 but not in set2"
   ]
  },
  {
   "cell_type": "code",
   "execution_count": null,
   "id": "e32274c1",
   "metadata": {},
   "outputs": [],
   "source": [
    "set1-set2"
   ]
  },
  {
   "cell_type": "code",
   "execution_count": null,
   "id": "23f299b8",
   "metadata": {},
   "outputs": [],
   "source": [
    "set2-set1"
   ]
  },
  {
   "cell_type": "markdown",
   "id": "91c345ee",
   "metadata": {},
   "source": [
    "- systemetric_difference()-->(A union B)-(A intersectio B)"
   ]
  },
  {
   "cell_type": "code",
   "execution_count": null,
   "id": "2143882f",
   "metadata": {},
   "outputs": [],
   "source": [
    "set1.symmetric_difference(set2)"
   ]
  },
  {
   "cell_type": "markdown",
   "id": "629c3bb3",
   "metadata": {},
   "source": [
    "- issubset()"
   ]
  },
  {
   "cell_type": "code",
   "execution_count": null,
   "id": "1a8f0720",
   "metadata": {},
   "outputs": [],
   "source": [
    "c={3,4,5}\n",
    "d={3,4,5,6}"
   ]
  },
  {
   "cell_type": "code",
   "execution_count": null,
   "id": "e61437b6",
   "metadata": {},
   "outputs": [],
   "source": [
    "c.issubset(d)"
   ]
  },
  {
   "cell_type": "code",
   "execution_count": null,
   "id": "cb1fd6c2",
   "metadata": {},
   "outputs": [],
   "source": [
    "d.issubset(c)"
   ]
  },
  {
   "cell_type": "markdown",
   "id": "b88caaa7",
   "metadata": {},
   "source": [
    "- issuperset()"
   ]
  },
  {
   "cell_type": "code",
   "execution_count": null,
   "id": "d3a21be2",
   "metadata": {},
   "outputs": [],
   "source": [
    "d.issuperset(c)"
   ]
  },
  {
   "cell_type": "markdown",
   "id": "9a94e785",
   "metadata": {},
   "source": [
    "# Dictionaries"
   ]
  },
  {
   "cell_type": "markdown",
   "id": "862eb992",
   "metadata": {},
   "source": [
    "- Dictionary is an unordered collection."
   ]
  },
  {
   "cell_type": "markdown",
   "id": "c055d5d3",
   "metadata": {},
   "source": [
    "<b>empty dictionary</b>"
   ]
  },
  {
   "cell_type": "code",
   "execution_count": null,
   "id": "01ccc59a",
   "metadata": {},
   "outputs": [],
   "source": [
    "d={}\n",
    "print(d)\n",
    "type(d)"
   ]
  },
  {
   "cell_type": "code",
   "execution_count": null,
   "id": "905452b2",
   "metadata": {},
   "outputs": [],
   "source": [
    "d=dict()\n",
    "print(d)\n",
    "type(d)"
   ]
  },
  {
   "cell_type": "markdown",
   "id": "48d59267",
   "metadata": {},
   "source": [
    "- In Pyrthon, dictionaries are defined within braces {} with each item being key:value\n",
    "- <b>keys can be of fundamental data type -</b> Generally, the keys are int or str\n",
    "- <b>values can be of any data type</b>"
   ]
  },
  {
   "cell_type": "code",
   "execution_count": null,
   "id": "d3e72756",
   "metadata": {},
   "outputs": [],
   "source": [
    "dict={1:456,10.4:[3,9,15],'key3':(94,8,23),'key4':{'item1','item3','item4'}}\n",
    "dict"
   ]
  },
  {
   "cell_type": "markdown",
   "id": "c98343f3",
   "metadata": {},
   "source": [
    "<b>Nested Dictionary</b>"
   ]
  },
  {
   "cell_type": "markdown",
   "id": "e96d3cc9",
   "metadata": {},
   "source": [
    "- If atleast none value is dict, then it is called as nested dictionary"
   ]
  },
  {
   "cell_type": "code",
   "execution_count": null,
   "id": "71f94f85",
   "metadata": {},
   "outputs": [],
   "source": [
    "car_type={'car1':1989,'car2':123,'car3':{1:3}}\n",
    "print(car_type)"
   ]
  },
  {
   "cell_type": "code",
   "execution_count": null,
   "id": "821a182e",
   "metadata": {},
   "outputs": [],
   "source": [
    "car_type[\"car2\"][1]"
   ]
  },
  {
   "cell_type": "code",
   "execution_count": null,
   "id": "0304711b",
   "metadata": {},
   "outputs": [],
   "source": [
    "car_type[\"car3\"][1]"
   ]
  },
  {
   "cell_type": "code",
   "execution_count": null,
   "id": "1eaa7cfc",
   "metadata": {},
   "outputs": [],
   "source": [
    "marks={'history':45,'Geography':54,'Hindi':56}\n",
    "marks"
   ]
  },
  {
   "cell_type": "code",
   "execution_count": null,
   "id": "f318f39d",
   "metadata": {},
   "outputs": [],
   "source": [
    "#total no. of items\n",
    "marks.keys()"
   ]
  },
  {
   "cell_type": "code",
   "execution_count": null,
   "id": "2c617de3",
   "metadata": {},
   "outputs": [],
   "source": [
    "# item\n",
    "marks.items()"
   ]
  },
  {
   "cell_type": "code",
   "execution_count": null,
   "id": "1eb6a612",
   "metadata": {},
   "outputs": [],
   "source": [
    "# keys\n",
    "marks.keys()"
   ]
  },
  {
   "cell_type": "code",
   "execution_count": null,
   "id": "e2933b68",
   "metadata": {},
   "outputs": [],
   "source": [
    "# values\n",
    "marks.values()"
   ]
  },
  {
   "cell_type": "markdown",
   "id": "b5a1cb2b",
   "metadata": {},
   "source": [
    "<b>Dictionary has indexing</b>\n",
    "- dict_name[key]"
   ]
  },
  {
   "cell_type": "code",
   "execution_count": null,
   "id": "2aa42c56",
   "metadata": {},
   "outputs": [],
   "source": [
    "marks['history']"
   ]
  },
  {
   "cell_type": "markdown",
   "id": "a752be52",
   "metadata": {},
   "source": [
    "<b>dictionaries are muteable</b>\n",
    "\n",
    "<b>add a single item into a dictionary</b>"
   ]
  },
  {
   "cell_type": "code",
   "execution_count": null,
   "id": "f0f76710",
   "metadata": {},
   "outputs": [],
   "source": [
    "marks['english']=47\n",
    "marks"
   ]
  },
  {
   "cell_type": "markdown",
   "id": "fb47f40a",
   "metadata": {},
   "source": [
    "<b>add a mutable items into a dictionary</b>"
   ]
  },
  {
   "cell_type": "code",
   "execution_count": null,
   "id": "24738de2",
   "metadata": {},
   "outputs": [],
   "source": [
    "marks.update({'Chemistry':89,'Physics':98})\n",
    "marks"
   ]
  },
  {
   "cell_type": "markdown",
   "id": "e7c8b54f",
   "metadata": {},
   "source": [
    "<b>replace value in dictionary</b>"
   ]
  },
  {
   "cell_type": "code",
   "execution_count": null,
   "id": "67cb22d5",
   "metadata": {},
   "outputs": [],
   "source": [
    "marks['Hindi']=64\n",
    "marks"
   ]
  },
  {
   "cell_type": "markdown",
   "id": "2d8d3b92",
   "metadata": {},
   "source": [
    "<b>replace key in dectionary</b>"
   ]
  },
  {
   "cell_type": "code",
   "execution_count": null,
   "id": "1c734de6",
   "metadata": {},
   "outputs": [],
   "source": [
    "marks['Maths']=marks.pop('Hindi')\n",
    "marks"
   ]
  },
  {
   "cell_type": "markdown",
   "id": "d9b54597",
   "metadata": {},
   "source": [
    "<b>delete item in dictionary</b>"
   ]
  },
  {
   "cell_type": "code",
   "execution_count": null,
   "id": "6c9ccf9c",
   "metadata": {},
   "outputs": [],
   "source": [
    "del marks['english']"
   ]
  },
  {
   "cell_type": "code",
   "execution_count": null,
   "id": "ee5d8cb5",
   "metadata": {},
   "outputs": [],
   "source": [
    "marks"
   ]
  },
  {
   "cell_type": "markdown",
   "id": "e61a8c47",
   "metadata": {},
   "source": [
    "# Range()"
   ]
  },
  {
   "cell_type": "markdown",
   "id": "a079db99",
   "metadata": {},
   "source": [
    "We can generate a sequence of numbers using range() function. range(10) will generate numbers from 0 to 9(numbers).\n",
    "\n",
    "We can also define the start, stop and step size as range(start,stop,step size). step size defaults to 1 if not provided\n",
    "\n",
    "This function does not store all the values n memory, it would be inefficient. So it remembers the start, stop, step size and generates the next number on the go.\n",
    "\n",
    "To force this function to output all the items, we can use the function list().\n",
    "\n",
    "The following example will clarify this.\n",
    "\n",
    "We can use the range() function in for loops to iterate through a sequence of numbers. if can be combined with the len() function to iterate through a sequence using indexing. Here is an example."
   ]
  },
  {
   "cell_type": "code",
   "execution_count": null,
   "id": "a46a0f8a",
   "metadata": {},
   "outputs": [],
   "source": [
    "range(10)"
   ]
  },
  {
   "cell_type": "code",
   "execution_count": null,
   "id": "31f2fcb9",
   "metadata": {},
   "outputs": [],
   "source": [
    "list(range(10))"
   ]
  },
  {
   "cell_type": "code",
   "execution_count": null,
   "id": "89f23d95",
   "metadata": {},
   "outputs": [],
   "source": [
    "tuple(range(10))"
   ]
  },
  {
   "cell_type": "code",
   "execution_count": null,
   "id": "01394c56",
   "metadata": {},
   "outputs": [],
   "source": [
    "list(range(8,11))"
   ]
  },
  {
   "cell_type": "code",
   "execution_count": null,
   "id": "712a0edd",
   "metadata": {},
   "outputs": [],
   "source": [
    "list(range(0,11,2))"
   ]
  },
  {
   "cell_type": "code",
   "execution_count": null,
   "id": "3563cdd2",
   "metadata": {},
   "outputs": [],
   "source": [
    "list(range(8,0,-1))"
   ]
  },
  {
   "cell_type": "markdown",
   "id": "d22537a0",
   "metadata": {},
   "source": [
    "   "
   ]
  },
  {
   "cell_type": "markdown",
   "id": "1f00f6ce",
   "metadata": {},
   "source": [
    "    "
   ]
  },
  {
   "cell_type": "markdown",
   "id": "0cd803a9",
   "metadata": {},
   "source": [
    "#  Operators:"
   ]
  },
  {
   "cell_type": "markdown",
   "id": "7bf4b5ef",
   "metadata": {},
   "source": [
    "- Opertators are special symbols in Python that carry out arithmetic or logical computation."
   ]
  },
  {
   "cell_type": "markdown",
   "id": "55fd0e4e",
   "metadata": {},
   "source": [
    "# Operator Types"
   ]
  },
  {
   "cell_type": "markdown",
   "id": "8f41dcb9",
   "metadata": {},
   "source": [
    "1.Arithmatic operators <br>\n",
    "2.Assignment operators  <br>\n",
    "3.Comparison (Relational) operators <br>\n",
    "4.Logical (Boolean) operators <br>\n",
    "5.Membership Operators <br>\n",
    "6.Identity Operators<br>"
   ]
  },
  {
   "cell_type": "markdown",
   "id": "155ecbca",
   "metadata": {},
   "source": [
    "# Arthmetic Operators"
   ]
  },
  {
   "cell_type": "markdown",
   "id": "9432da6d",
   "metadata": {},
   "source": [
    "- Arithmetic operators are used to perform mathematical operations like addition, subtraction,multiplication etc .\n",
    "- *,-,/,%,//,* are arthmetic operators"
   ]
  },
  {
   "cell_type": "code",
   "execution_count": null,
   "id": "df769662",
   "metadata": {},
   "outputs": [],
   "source": [
    "# Addition\n",
    "3+5"
   ]
  },
  {
   "cell_type": "code",
   "execution_count": null,
   "id": "d1521afe",
   "metadata": {},
   "outputs": [],
   "source": [
    "#substration"
   ]
  },
  {
   "cell_type": "code",
   "execution_count": null,
   "id": "6a9af832",
   "metadata": {},
   "outputs": [],
   "source": [
    "54-46"
   ]
  },
  {
   "cell_type": "code",
   "execution_count": null,
   "id": "59756f97",
   "metadata": {},
   "outputs": [],
   "source": [
    "# Multiplication\n",
    "2*3"
   ]
  },
  {
   "cell_type": "code",
   "execution_count": null,
   "id": "8722b7ce",
   "metadata": {},
   "outputs": [],
   "source": [
    "#Division\n",
    "8/2"
   ]
  },
  {
   "cell_type": "markdown",
   "id": "b5dd0409",
   "metadata": {},
   "source": [
    "- Division ->always gives output as float"
   ]
  },
  {
   "cell_type": "code",
   "execution_count": null,
   "id": "297cdd0b",
   "metadata": {},
   "outputs": [],
   "source": [
    "# floor division --> Quotient\n",
    "16//5"
   ]
  },
  {
   "cell_type": "code",
   "execution_count": null,
   "id": "8daa47e6",
   "metadata": {},
   "outputs": [],
   "source": [
    "# modulo --> remainder\n",
    "16%5"
   ]
  },
  {
   "cell_type": "code",
   "execution_count": null,
   "id": "3029aeb4",
   "metadata": {},
   "outputs": [],
   "source": [
    "# power/exponent\n",
    "10**2"
   ]
  },
  {
   "cell_type": "code",
   "execution_count": null,
   "id": "255b02ba",
   "metadata": {},
   "outputs": [],
   "source": [
    "# parantasis\n",
    "(2+3)*(5+5)"
   ]
  },
  {
   "cell_type": "markdown",
   "id": "cb56b91b",
   "metadata": {},
   "source": [
    "<th><b> Arthimetic operators precedence</b></th>"
   ]
  },
  {
   "cell_type": "markdown",
   "id": "56a3295f",
   "metadata": {},
   "source": [
    "- Paracentheis\n",
    "- exponents\n",
    "- floor division\n",
    "- Division or Multiplication\n",
    "- Modulus\n",
    "- Addition or Subtraction"
   ]
  },
  {
   "cell_type": "code",
   "execution_count": null,
   "id": "5c6921ad",
   "metadata": {},
   "outputs": [],
   "source": [
    "5*45/5-5"
   ]
  },
  {
   "cell_type": "markdown",
   "id": "82e0a759",
   "metadata": {},
   "source": [
    "<b>When we use arthemetic operator, the boolean values will be automaticaLLY CONVERTED TO INT</b>"
   ]
  },
  {
   "cell_type": "code",
   "execution_count": null,
   "id": "c8e279d3",
   "metadata": {},
   "outputs": [],
   "source": []
  },
  {
   "cell_type": "code",
   "execution_count": null,
   "id": "640773bc",
   "metadata": {},
   "outputs": [],
   "source": [
    "True+True"
   ]
  },
  {
   "cell_type": "code",
   "execution_count": null,
   "id": "ba8cac6e",
   "metadata": {},
   "outputs": [],
   "source": [
    "b=3.9\n",
    "c=False\n",
    "b+c"
   ]
  },
  {
   "cell_type": "code",
   "execution_count": null,
   "id": "ae84c174",
   "metadata": {},
   "outputs": [],
   "source": [
    "b=3.9\n",
    "c=False\n",
    "b/c"
   ]
  },
  {
   "cell_type": "markdown",
   "id": "60e13c66",
   "metadata": {},
   "source": [
    "# Assignment operators\n",
    "- Assignment operators are used in python to assign values to variables.\n",
    "- (=,+=,-=,,/=,%=,//=,*=) are Assignment operators.\n",
    "- First right side part will be executed and then assign to the left side variable"
   ]
  },
  {
   "cell_type": "code",
   "execution_count": null,
   "id": "16eb4be8",
   "metadata": {},
   "outputs": [],
   "source": [
    "# = is a simple assignment operator that assign the value on the right to the \n",
    "a=10\n",
    "a"
   ]
  },
  {
   "cell_type": "code",
   "execution_count": null,
   "id": "ff564051",
   "metadata": {},
   "outputs": [],
   "source": [
    "id(a)"
   ]
  },
  {
   "cell_type": "code",
   "execution_count": null,
   "id": "ffad2152",
   "metadata": {},
   "outputs": [],
   "source": [
    "a=a+1\n",
    "print(a)"
   ]
  },
  {
   "cell_type": "code",
   "execution_count": null,
   "id": "1d989988",
   "metadata": {},
   "outputs": [],
   "source": [
    "id(a)"
   ]
  },
  {
   "cell_type": "code",
   "execution_count": null,
   "id": "894a633d",
   "metadata": {},
   "outputs": [],
   "source": [
    "a-=4  # a=a-4\n",
    "a"
   ]
  },
  {
   "cell_type": "code",
   "execution_count": null,
   "id": "2c9dc084",
   "metadata": {},
   "outputs": [],
   "source": [
    "#Multiply AND (*=)\n",
    "#Divid AND (/=)\n",
    "#Modules AND (%=)\n",
    "# Floor Division (//=)\n",
    "# Exponenr AND (**=)"
   ]
  },
  {
   "cell_type": "markdown",
   "id": "1049bbba",
   "metadata": {},
   "source": [
    "# Comparison/Relational Operators\n",
    "- Comparison operators are used to comparae values. It either returns True or False acording to the condition.\\"
   ]
  },
  {
   "cell_type": "markdown",
   "id": "48ec57d3",
   "metadata": {},
   "source": [
    "<tb><tr>,<,==,!=,>=,<= are comparision operators</tr></tb>"
   ]
  },
  {
   "cell_type": "code",
   "execution_count": null,
   "id": "e43c6fa4",
   "metadata": {},
   "outputs": [],
   "source": [
    "# is greater than\n",
    "45>34"
   ]
  },
  {
   "cell_type": "code",
   "execution_count": null,
   "id": "abf93269",
   "metadata": {},
   "outputs": [],
   "source": [
    "# is Less than\n",
    "56<23"
   ]
  },
  {
   "cell_type": "code",
   "execution_count": null,
   "id": "d524bdf9",
   "metadata": {},
   "outputs": [],
   "source": [
    "3*3<4*2"
   ]
  },
  {
   "cell_type": "code",
   "execution_count": null,
   "id": "5983f1c2",
   "metadata": {},
   "outputs": [],
   "source": [
    "# is equal to\n",
    "45==45"
   ]
  },
  {
   "cell_type": "code",
   "execution_count": null,
   "id": "e54b4b49",
   "metadata": {},
   "outputs": [],
   "source": [
    "# is not equal\n",
    "3!=5"
   ]
  },
  {
   "cell_type": "code",
   "execution_count": null,
   "id": "e4542926",
   "metadata": {},
   "outputs": [],
   "source": [
    "# greaterthan or equalto\n",
    "1 >=1"
   ]
  },
  {
   "cell_type": "code",
   "execution_count": null,
   "id": "1ebcb18d",
   "metadata": {},
   "outputs": [],
   "source": [
    "45==45.0"
   ]
  },
  {
   "cell_type": "code",
   "execution_count": null,
   "id": "d5cb85d1",
   "metadata": {},
   "outputs": [],
   "source": [
    "'hi'=='HI'"
   ]
  },
  {
   "cell_type": "markdown",
   "id": "34de3117",
   "metadata": {},
   "source": [
    "# Logical Operators"
   ]
  },
  {
   "cell_type": "markdown",
   "id": "9a32a2a0",
   "metadata": {},
   "source": [
    "- it returns bool type only\n",
    "- Logical operators are and, or, not operators.\n",
    "- when we have, \"or\" operator.... atleast i condition should be True then only overall output will be True\n",
    "- when we have, 'and' operator... all conditions should be True then only overall output will be True \n"
   ]
  },
  {
   "cell_type": "code",
   "execution_count": null,
   "id": "7d192fa1",
   "metadata": {},
   "outputs": [],
   "source": [
    "(1<2)or(2<3)"
   ]
  },
  {
   "cell_type": "code",
   "execution_count": null,
   "id": "6a2ce134",
   "metadata": {},
   "outputs": [],
   "source": [
    "(1>2)and(2<3)"
   ]
  },
  {
   "cell_type": "code",
   "execution_count": null,
   "id": "b9cd6917",
   "metadata": {},
   "outputs": [],
   "source": [
    "not True"
   ]
  },
  {
   "cell_type": "code",
   "execution_count": null,
   "id": "ad4ebc2f",
   "metadata": {},
   "outputs": [],
   "source": [
    "not False"
   ]
  },
  {
   "cell_type": "code",
   "execution_count": null,
   "id": "1d510ff0",
   "metadata": {},
   "outputs": [],
   "source": [
    "my_str=\"Siva\"\n",
    "my_str.isalpha() or my_str.isalnum()\n",
    "#isalphabets or is alphanumeric"
   ]
  },
  {
   "cell_type": "markdown",
   "id": "0eaef375",
   "metadata": {},
   "source": [
    "<b> Logical operators Precedence</b>"
   ]
  },
  {
   "cell_type": "markdown",
   "id": "7d8f5a4a",
   "metadata": {},
   "source": [
    "- Logical NOT\n",
    "- Logical AND\n",
    "- Logical OR"
   ]
  },
  {
   "cell_type": "code",
   "execution_count": null,
   "id": "f9dd318e",
   "metadata": {},
   "outputs": [],
   "source": [
    "(2==2)or(3==3)and(3==4)\n",
    "#--> \" loogical and \" followed by \"logiacl OR\""
   ]
  },
  {
   "cell_type": "markdown",
   "id": "bfdab976",
   "metadata": {},
   "source": [
    "# identity operators"
   ]
  },
  {
   "cell_type": "markdown",
   "id": "bbe4c219",
   "metadata": {},
   "source": [
    "is and is not are the identity operators in python.\n",
    "They are used to check if two values(or variable) are indicating to same object or not\n",
    " - is operator(# is-True if the operands are identical)\n",
    " - is not operator(# is not -True if the operands are not identical)"
   ]
  },
  {
   "cell_type": "code",
   "execution_count": null,
   "id": "c4e208ac",
   "metadata": {},
   "outputs": [],
   "source": [
    "a= 5\n",
    "b=5\n",
    "print(a is b)\n",
    "# 5 is object created once both a and b points to same objef"
   ]
  },
  {
   "cell_type": "code",
   "execution_count": null,
   "id": "fcc0aa35",
   "metadata": {},
   "outputs": [],
   "source": [
    "s1=\"satish\"\n",
    "s2=\"satish\"\n",
    "print( a is b)"
   ]
  },
  {
   "cell_type": "code",
   "execution_count": null,
   "id": "05b4651f",
   "metadata": {},
   "outputs": [],
   "source": [
    "a=6\n",
    "b=8\n",
    "a is not b"
   ]
  },
  {
   "cell_type": "markdown",
   "id": "01612359",
   "metadata": {},
   "source": [
    "# Membership operators"
   ]
  },
  {
   "cell_type": "markdown",
   "id": "321c001e",
   "metadata": {},
   "source": [
    "<b>in and not in</b> are the membership operators i n Python.\n",
    "\n",
    "They are used to test wheather a value or variable is found in a sequence(string, list, tuple, set and dictionary)."
   ]
  },
  {
   "cell_type": "code",
   "execution_count": null,
   "id": "f19b438c",
   "metadata": {},
   "outputs": [],
   "source": [
    "a=\"venkatesh\"\n",
    "\"eh\" in a"
   ]
  },
  {
   "cell_type": "code",
   "execution_count": null,
   "id": "8606ec81",
   "metadata": {},
   "outputs": [],
   "source": [
    "Lst=[1,2,3,4,5,6]\n",
    "2 in Lst  # check 1 is present in a given list or not"
   ]
  },
  {
   "cell_type": "markdown",
   "id": "55493711",
   "metadata": {},
   "source": [
    "<b> only arthimetic operators, return with value \n",
    "remaining all operatoers, return boolean value</b>"
   ]
  },
  {
   "cell_type": "markdown",
   "id": "f32cd529",
   "metadata": {},
   "source": [
    "#  Operators precedence:"
   ]
  },
  {
   "cell_type": "markdown",
   "id": "d692a74f",
   "metadata": {},
   "source": [
    "- Arthimetic operators\n",
    "- Comparision operators\n",
    "- membership operators\n",
    "- identity operators\n",
    "- Logical operators\n",
    "- Assignment operators"
   ]
  },
  {
   "cell_type": "code",
   "execution_count": null,
   "id": "99d945ce",
   "metadata": {},
   "outputs": [],
   "source": [
    "b=(1>2) or (3>=3)\n",
    "b"
   ]
  },
  {
   "cell_type": "markdown",
   "id": "4f420f2f",
   "metadata": {},
   "source": [
    "<b>#  Conditional statements (Control flow statements) in Python"
   ]
  },
  {
   "cell_type": "markdown",
   "id": "a28f7bb6",
   "metadata": {},
   "source": [
    "<b>\n",
    "\n",
    "- if\n",
    "- if-else\n",
    "- if-elif\n",
    "- if-elif-else\n",
    "- nested if   </b>"
   ]
  },
  {
   "cell_type": "markdown",
   "id": "73033141",
   "metadata": {},
   "source": [
    "# Block Structure"
   ]
  },
  {
   "cell_type": "markdown",
   "id": "3ff4f3e9",
   "metadata": {},
   "source": [
    "- The code taht is executed when a specific condition is met is defined in a \"block\".\n",
    "- Statements preceding blocks generally end with a colon (:)\n",
    "- In Python, the blocks structure is signalled by  changes in indentation.\n",
    "- Each line  of code in a certain block level must be indented equally and indented more than the surrounding scope.\n",
    "- The standerd is to use 4 spaces for each level of block indentation."
   ]
  },
  {
   "cell_type": "markdown",
   "id": "5901cb79",
   "metadata": {},
   "source": [
    "# IF:"
   ]
  },
  {
   "cell_type": "markdown",
   "id": "537b2bbe",
   "metadata": {},
   "source": [
    "- if statement syntax\n",
    "  * if test_expression/condition:\n",
    "        statement(s)\n",
    "        "
   ]
  },
  {
   "cell_type": "markdown",
   "id": "e7a7b493",
   "metadata": {},
   "source": [
    "The program evaluates the test expression and will execute statement(s) only if the text expression is True.\n",
    "\n",
    "If the text expression is false, the statement(s) is not executed."
   ]
  },
  {
   "cell_type": "code",
   "execution_count": null,
   "id": "99b20409",
   "metadata": {},
   "outputs": [],
   "source": [
    "if(1<2):\n",
    "    print(\"Hi!\")\n",
    "    print(\"welcome\")"
   ]
  },
  {
   "cell_type": "code",
   "execution_count": null,
   "id": "21c5bc99",
   "metadata": {},
   "outputs": [],
   "source": [
    "if(1>2):\n",
    "    print(\"hi!\")"
   ]
  },
  {
   "cell_type": "code",
   "execution_count": null,
   "id": "e7a3059b",
   "metadata": {},
   "outputs": [],
   "source": [
    "if (1>2):\n",
    "    print('hi')\n",
    "    print('Ramakrishna')"
   ]
  },
  {
   "cell_type": "markdown",
   "id": "b01b6209",
   "metadata": {},
   "source": [
    "# If-else Syntax:"
   ]
  },
  {
   "cell_type": "markdown",
   "id": "fb8b0d9b",
   "metadata": {},
   "source": [
    "<b>\n",
    "if test expression:<br>\n",
    "      Body of if  <br>\n",
    "else:   <br>\n",
    "    Body of else   <br></b>"
   ]
  },
  {
   "cell_type": "code",
   "execution_count": null,
   "id": "d2caa66a",
   "metadata": {},
   "outputs": [],
   "source": [
    "if 1>2:\n",
    "    print('first')\n",
    "\n",
    "else :\n",
    "    print('Last')\n"
   ]
  },
  {
   "cell_type": "code",
   "execution_count": null,
   "id": "3f13f00f",
   "metadata": {},
   "outputs": [],
   "source": [
    "# Take a variable x and print \"even if the number is divisible by , otherwise print \"odd\"\n",
    "x=int(input(\"enter a number \"))\n",
    "if(x%2==0):\n",
    "    print(x,\" is even \")\n",
    "else:\n",
    "    print(x,\" is odd\")"
   ]
  },
  {
   "cell_type": "code",
   "execution_count": null,
   "id": "c06269c6",
   "metadata": {},
   "outputs": [],
   "source": [
    "a,b,c,d=2,3,4,5\n",
    "if(a==b or c==d ):\n",
    "    print(\"abc\")\n",
    "else:\n",
    "    print(\"def\")"
   ]
  },
  {
   "cell_type": "markdown",
   "id": "658cfd2f",
   "metadata": {},
   "source": [
    "# if-elif-else Syntax:\n"
   ]
  },
  {
   "cell_type": "markdown",
   "id": "ab06c887",
   "metadata": {},
   "source": [
    "if test expression:\n",
    "    "
   ]
  },
  {
   "cell_type": "markdown",
   "id": "dff436d5",
   "metadata": {},
   "source": [
    "    Body of if"
   ]
  },
  {
   "cell_type": "markdown",
   "id": "de059e37",
   "metadata": {},
   "source": [
    "elif test expression:\n"
   ]
  },
  {
   "cell_type": "markdown",
   "id": "2272166d",
   "metadata": {},
   "source": [
    "    Body elif"
   ]
  },
  {
   "cell_type": "markdown",
   "id": "4a5b64a1",
   "metadata": {},
   "source": [
    "else:"
   ]
  },
  {
   "cell_type": "markdown",
   "id": "25116d80",
   "metadata": {},
   "source": [
    "    body of else"
   ]
  },
  {
   "cell_type": "code",
   "execution_count": null,
   "id": "8cb490a0",
   "metadata": {},
   "outputs": [],
   "source": [
    "if 2!=2:\n",
    "    print(\"first\")\n",
    "elif(3==3):\n",
    "    print(\"middle\")"
   ]
  },
  {
   "cell_type": "code",
   "execution_count": null,
   "id": "ddc8a339",
   "metadata": {},
   "outputs": [],
   "source": [
    "if 1==1:\n",
    "    print(\"How did that happen !\")\n",
    "elif 1<3:\n",
    "    print(\"Yieks\")\n",
    "else:\n",
    "    print(\"All is well in the world\")"
   ]
  },
  {
   "cell_type": "markdown",
   "id": "a50e6cd9",
   "metadata": {},
   "source": [
    "### Take a variable y and  print \"Grade A\" if y is greater then 90 ,\"Gread B\" if y is graeater than 60 but less then or equal to 60 \"Gread F\""
   ]
  },
  {
   "cell_type": "code",
   "execution_count": null,
   "id": "42ca7df0",
   "metadata": {},
   "outputs": [],
   "source": [
    "y=int(input(\"enter the value of Y \"))\n",
    "if y>90:\n",
    "    print(\"Gread A\")\n",
    "elif y>=60:\n",
    "    print(\"Gread B\")\n",
    "else:\n",
    "    print(\"Gread F\")"
   ]
  },
  {
   "cell_type": "markdown",
   "id": "ab286d4f",
   "metadata": {},
   "source": [
    "###  Write a program to find largest of given 2 Numbers from  the input consol ?"
   ]
  },
  {
   "cell_type": "code",
   "execution_count": null,
   "id": "f3eec5f5",
   "metadata": {},
   "outputs": [],
   "source": [
    "y=int(input(\"Enter the first number \"))\n",
    "x=int(input('enter the Scond number'))\n",
    "if x>y:\n",
    "    print(\" the largest number is \",x)\n",
    "elif(x==y):\n",
    "    print(\"both are same\")\n",
    "else :\n",
    "\n",
    "    print(\"largest number is \",y)ds"
   ]
  },
  {
   "cell_type": "markdown",
   "id": "1cc4447f",
   "metadata": {},
   "source": [
    "\n",
    "\n"
   ]
  },
  {
   "cell_type": "markdown",
   "id": "946d2d6d",
   "metadata": {},
   "source": [
    "###  Write a programe to find largest of given 3 Numbers from the input consol?"
   ]
  },
  {
   "cell_type": "code",
   "execution_count": null,
   "id": "a90921f1",
   "metadata": {},
   "outputs": [],
   "source": [
    "n1=int(input(\"Enter first number \"))\n",
    "n2=int(input(\"Enter second number \"))\n",
    "n3=int(input(\"Enter third number \"))\n",
    "\n",
    "if n1==n2 and n2==n3 :\n",
    "    print(\"ALL Number are same \")\n",
    "elif n1>n2 and n1>n3 :\n",
    "    print(\"the first number is Largest\",n1)\n",
    "elif  n2>n3 :\n",
    "    print(\"The second number is the largest number\",n2)\n",
    "else :\n",
    "    print(\"the third number is the largest number \",n3)"
   ]
  },
  {
   "cell_type": "markdown",
   "id": "fab6da4e",
   "metadata": {},
   "source": [
    "## Nested if Statements"
   ]
  },
  {
   "cell_type": "markdown",
   "id": "cbf2fbf3",
   "metadata": {},
   "source": [
    "We can have a if...elif...else statement inside another if..elif...else Statement. This is called nesting in computer programing."
   ]
  },
  {
   "cell_type": "code",
   "execution_count": null,
   "id": "488a0760",
   "metadata": {},
   "outputs": [],
   "source": [
    "num =-20\n",
    "\n",
    "if num>=0:\n",
    "\n",
    "    if num >=0:\n",
    "        print(\"zero\")\n",
    "    else:\n",
    "        print(\"Positive Number\")\n",
    "else:\n",
    "    print(\"Negative number\")"
   ]
  },
  {
   "cell_type": "code",
   "execution_count": null,
   "id": "26a94169",
   "metadata": {},
   "outputs": [],
   "source": [
    "# next program on bank transition using conditional statements\n",
    "amount=20000\n",
    "pin=1234\n",
    "\n",
    "if(int(input(\"enter your pin\"))==pin):\n",
    "    with_draw=int(input('with draw amount: '))\n",
    "    if (with_draw<=amount):\n",
    "        print(with_draw,'Successfully transaction complted')\n",
    "    else:\n",
    "        print(with_draw,'not sufficiant funds in your account')\n",
    "else:\n",
    "    print(\"invaild pin number\")"
   ]
  },
  {
   "cell_type": "markdown",
   "id": "af9144cd",
   "metadata": {},
   "source": [
    "# Loops"
   ]
  },
  {
   "cell_type": "code",
   "execution_count": null,
   "id": "f1a7c980",
   "metadata": {},
   "outputs": [],
   "source": [
    "i=1\n",
    "j=i+5\n",
    "k=j+10\n",
    "print(i,j,k)\n",
    "\n",
    "i=2\n",
    "j=i+5\n",
    "k=j+10\n",
    "print(i,j,k)\n",
    "\n",
    "i=3\n",
    "j=i+5\n",
    "k=j+10\n",
    "print(i,j,k)"
   ]
  },
  {
   "cell_type": "markdown",
   "id": "6b69466e",
   "metadata": {},
   "source": [
    "## Loops\n",
    "- There may be a situation when you need to execute a block of code several numbers of times.\n",
    "- to itrate over items or elements in agiven seq like str,list, tuf, set or dict\n",
    "- In general , statements are executed sequentially: The first statement in a function is executed first, followed by the second, and so on.\n",
    "    "
   ]
  },
  {
   "cell_type": "markdown",
   "id": "9ccb9e4d",
   "metadata": {},
   "source": [
    "### <b>Itration or loops -repeate actions\n",
    "- for loop --> iterate for all items present in iterating_sequence:\n",
    "- while loop --> until the condition satisfies  "
   ]
  },
  {
   "cell_type": "markdown",
   "id": "06d2a31a",
   "metadata": {},
   "source": [
    "# For loop\n",
    "- The for loop in Python is used to itrate over a sequence(list, tuple, string) or other iterable objects.\n",
    "- Loop continues until we reach the last item in the sequence.\n",
    "- The body of for loop is seperated from the rest of the code using indentation\n",
    "### Syntax:\n",
    "     for element in sequence :\n",
    "        Body of for\n",
    "        "
   ]
  },
  {
   "cell_type": "markdown",
   "id": "84b6dd60",
   "metadata": {},
   "source": [
    "Here, element is the variable that takes the value of the item inside the sequence on each iteration.\n",
    "\n",
    "Loop continues until all items completed in the sequence."
   ]
  },
  {
   "cell_type": "code",
   "execution_count": null,
   "id": "5875560b",
   "metadata": {},
   "outputs": [],
   "source": [
    "for i in range(1,4):\n",
    "    j=i+1\n",
    "    k=j+10\n",
    "    print(i,j,k)"
   ]
  },
  {
   "cell_type": "code",
   "execution_count": null,
   "id": "5c512c49",
   "metadata": {},
   "outputs": [],
   "source": [
    "for i in range(1,4):\n",
    "    j=i+5\n",
    "    k=j+10\n",
    "    print(i,j,k)\n",
    "print(\"srk\")"
   ]
  },
  {
   "cell_type": "code",
   "execution_count": null,
   "id": "a236f9fc",
   "metadata": {},
   "outputs": [],
   "source": [
    "for i in range(1,4):\n",
    "    j=i+5\n",
    "    k=j+10\n",
    "print(i,j,k)"
   ]
  },
  {
   "cell_type": "markdown",
   "id": "4539bc4c",
   "metadata": {},
   "source": [
    "### print all the numbers between 10 and 50 (both inclusive)"
   ]
  },
  {
   "cell_type": "code",
   "execution_count": null,
   "id": "ca2f3d56",
   "metadata": {},
   "outputs": [],
   "source": [
    "for i in range(10,51):\n",
    "    print(i,end=\" \")"
   ]
  },
  {
   "cell_type": "markdown",
   "id": "348eb960",
   "metadata": {},
   "source": [
    "### print even number in decending order from 1 to 100"
   ]
  },
  {
   "cell_type": "code",
   "execution_count": null,
   "id": "01be56d1",
   "metadata": {},
   "outputs": [],
   "source": [
    "for i in range(100,1,-2):\n",
    "    print(i,end=\" \")"
   ]
  },
  {
   "cell_type": "markdown",
   "id": "18099483",
   "metadata": {},
   "source": [
    "### Write a python code to get all the even numbers for a given range bothe are inclusive"
   ]
  },
  {
   "cell_type": "code",
   "execution_count": null,
   "id": "8b017cba",
   "metadata": {},
   "outputs": [],
   "source": [
    "lb=int(input('enter the lower bound value: '))\n",
    "ub=int(input('enter the upper bound value: '))\n",
    "for i in range(lb,ub+1):\n",
    "    if i%2==0:\n",
    "        print(i,end=\" \")"
   ]
  },
  {
   "cell_type": "markdown",
   "id": "ff930905",
   "metadata": {},
   "source": [
    "### Write a program that give number between 1 to 100 which are divisible by 5 and divisible by 7"
   ]
  },
  {
   "cell_type": "code",
   "execution_count": null,
   "id": "ce77eef7",
   "metadata": {},
   "outputs": [],
   "source": [
    "for num in range(1,101):\n",
    "    if num%5==0 and num%7==0:\n",
    "        print(num,end=\" \")"
   ]
  },
  {
   "cell_type": "code",
   "execution_count": null,
   "id": "df6054d4",
   "metadata": {},
   "outputs": [],
   "source": [
    "seq=[1,2,3,4,5,]\n",
    "#iterating over the list\n",
    "for i in seq:\n",
    "    print(i)"
   ]
  },
  {
   "cell_type": "code",
   "execution_count": null,
   "id": "2eaae5d0",
   "metadata": {
    "scrolled": true
   },
   "outputs": [],
   "source": [
    "seq=[1,2,3,4,5,67,78,0]\n",
    "\n",
    "for item in seq:\n",
    "    print(item)"
   ]
  },
  {
   "cell_type": "code",
   "execution_count": null,
   "id": "585627ff",
   "metadata": {},
   "outputs": [],
   "source": [
    "seq=[11,2,3,4,5,56,0]\n",
    "\n",
    "for item in seq:\n",
    "    print(\"hello\")"
   ]
  },
  {
   "cell_type": "code",
   "execution_count": null,
   "id": "8c4d486b",
   "metadata": {},
   "outputs": [],
   "source": [
    "items=['item1','item2','item3','item4']\n",
    "\n",
    "for i in range(len(items)):\n",
    "    print(items[i],\"index \",i)"
   ]
  },
  {
   "cell_type": "markdown",
   "id": "c48cb50b",
   "metadata": {},
   "source": [
    "\n",
    "#### sum of given list"
   ]
  },
  {
   "cell_type": "code",
   "execution_count": null,
   "id": "b33dd30d",
   "metadata": {},
   "outputs": [],
   "source": [
    "l=[1,2,3,5,8]\n",
    "sum=0 #initiallization\n",
    "for i in l:\n",
    "    sum=sum+i\n",
    "print(sum)"
   ]
  },
  {
   "cell_type": "markdown",
   "id": "5bae5396",
   "metadata": {},
   "source": [
    "#### sum of even number in between given range(both inclusive)\n"
   ]
  },
  {
   "cell_type": "code",
   "execution_count": null,
   "id": "a423b00b",
   "metadata": {},
   "outputs": [],
   "source": [
    "lb=int(input('Enter the lower bound value: '))\n",
    "ub=int(input('Enter the upper bound value: '))\n",
    "sum=0\n",
    "\n",
    "for i in range(lb,ub):\n",
    "    if i%2==0:\n",
    "        sum=sum+i\n",
    "        print(i,end=\" \")\n",
    "print(\"\\n sum is\",sum)\n"
   ]
  },
  {
   "cell_type": "markdown",
   "id": "ea8bff61",
   "metadata": {},
   "source": [
    "### program to print multiple mathematical  tables"
   ]
  },
  {
   "cell_type": "code",
   "execution_count": null,
   "id": "ab118779",
   "metadata": {},
   "outputs": [],
   "source": [
    "a=int(input('enter multiplication table'))\n",
    "for i in range(1,11):\n",
    "    print(a,'*',i,'=',a*i)"
   ]
  },
  {
   "cell_type": "markdown",
   "id": "d7e34d29",
   "metadata": {},
   "source": [
    "### Write a program which can compute the factorial of give numbers."
   ]
  },
  {
   "cell_type": "code",
   "execution_count": null,
   "id": "14bf0f7d",
   "metadata": {},
   "outputs": [],
   "source": [
    "a=int(input())\n",
    "\n",
    "fact=1\n",
    "\n",
    "for i in range(a,0,-1):\n",
    "    fact=fact*i\n",
    "print('factorial of',a,'is',fact)"
   ]
  },
  {
   "cell_type": "markdown",
   "id": "841a8322",
   "metadata": {},
   "source": [
    "## Nested for loop"
   ]
  },
  {
   "cell_type": "code",
   "execution_count": null,
   "id": "cf13a597",
   "metadata": {},
   "outputs": [],
   "source": [
    "for i in range(3):\n",
    "    for j in range(2):\n",
    "        print('i=',i,'j=',j)"
   ]
  },
  {
   "cell_type": "code",
   "execution_count": null,
   "id": "bcaec178",
   "metadata": {},
   "outputs": [],
   "source": [
    "for i in range(2):\n",
    "    for j in range(2):\n",
    "        print(\"ds\")"
   ]
  },
  {
   "cell_type": "markdown",
   "id": "fe85030b",
   "metadata": {},
   "source": [
    "# Loops Termination"
   ]
  },
  {
   "cell_type": "markdown",
   "id": "abc65784",
   "metadata": {},
   "source": [
    "## Break"
   ]
  },
  {
   "cell_type": "code",
   "execution_count": null,
   "id": "0fbd575b",
   "metadata": {},
   "outputs": [],
   "source": [
    "numbers=[1,2,3,43]\n",
    "\n",
    "for i in numbers:\n",
    "    if i==3:\n",
    "        break\n",
    "print(i)"
   ]
  },
  {
   "cell_type": "markdown",
   "id": "0a1d09b9",
   "metadata": {},
   "source": [
    "## Continue"
   ]
  },
  {
   "cell_type": "code",
   "execution_count": null,
   "id": "c6ea3051",
   "metadata": {},
   "outputs": [],
   "source": [
    "number=[1,2,343,55,556]\n",
    "\n",
    "for num in number:\n",
    "        if num%2==0:\n",
    "            print(num)\n",
    "            continue"
   ]
  },
  {
   "cell_type": "markdown",
   "id": "c87904eb",
   "metadata": {},
   "source": [
    "### for loop with else"
   ]
  },
  {
   "cell_type": "markdown",
   "id": "35f71c9a",
   "metadata": {},
   "source": [
    "a for loop can have an optinal else block as well.The else part is executed if the items in the sequence used in  for loop exhaust."
   ]
  },
  {
   "cell_type": "markdown",
   "id": "3b01aa07",
   "metadata": {},
   "source": [
    "break statement can be used to stop a for loop, In such case, the else part is ignored."
   ]
  },
  {
   "cell_type": "markdown",
   "id": "382d91c5",
   "metadata": {},
   "source": [
    "Hence, a for loop's else part runs if no break occurs"
   ]
  },
  {
   "cell_type": "code",
   "execution_count": null,
   "id": "c6dc93af",
   "metadata": {},
   "outputs": [],
   "source": [
    "number=[1,2,3,4]\n",
    "\n",
    "for item in number:\n",
    "    print(item)\n",
    "    if item==5:\n",
    "        break\n",
    "else: \n",
    "\n",
    "    print('no item left in the list')"
   ]
  },
  {
   "cell_type": "code",
   "execution_count": null,
   "id": "7c618c44",
   "metadata": {},
   "outputs": [],
   "source": [
    "Numbers= [1,2,3,4]\n",
    "for item in numbers:\n",
    "    print(item)\n",
    "    if item==4:\n",
    "        break\n",
    "else:\n",
    "    print('no item left in the list')"
   ]
  },
  {
   "cell_type": "code",
   "execution_count": null,
   "id": "49561c0a",
   "metadata": {},
   "outputs": [],
   "source": []
  }
 ],
 "metadata": {
  "kernelspec": {
   "display_name": "Python 3 (ipykernel)",
   "language": "python",
   "name": "python3"
  },
  "language_info": {
   "codemirror_mode": {
    "name": "ipython",
    "version": 3
   },
   "file_extension": ".py",
   "mimetype": "text/x-python",
   "name": "python",
   "nbconvert_exporter": "python",
   "pygments_lexer": "ipython3",
   "version": "3.9.7"
  }
 },
 "nbformat": 4,
 "nbformat_minor": 5
}
