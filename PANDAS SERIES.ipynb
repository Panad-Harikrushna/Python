{
 "cells": [
  {
   "cell_type": "markdown",
   "id": "5aba3600",
   "metadata": {},
   "source": [
    "### 1. Series\n",
    "- The Pandas Series is a one-dimensional labeled array.\n",
    "- Series can store same and different types of the data.\n",
    "- Series stores data in sequential order.\n",
    "- Series is like a, one column information.\n",
    "### Series is a pre-defined class\n",
    "- Technically speaking Series is a pre-defined class in pandas library."
   ]
  },
  {
   "cell_type": "markdown",
   "id": "370ad4db",
   "metadata": {},
   "source": [
    "### 2. Creating Series\n",
    "- We can create Series in different ways,\n",
    "- Empty series\n",
    "- By using list\n",
    "- By using an array\n",
    "- By accessing single column from DataFrame."
   ]
  },
  {
   "cell_type": "markdown",
   "id": "a4fae240",
   "metadata": {},
   "source": [
    "### 2.1. Empty Series object\n",
    "- We need to create object to Series pre-defined class."
   ]
  },
  {
   "cell_type": "code",
   "execution_count": 2,
   "id": "440a725f",
   "metadata": {},
   "outputs": [
    {
     "name": "stdout",
     "output_type": "stream",
     "text": [
      "Series([], dtype: float64)\n",
      "<class 'pandas.core.series.Series'>\n"
     ]
    },
    {
     "name": "stderr",
     "output_type": "stream",
     "text": [
      "C:\\Users\\Lenovo\\AppData\\Local\\Temp/ipykernel_3604/2487782228.py:3: DeprecationWarning: The default dtype for empty Series will be 'object' instead of 'float64' in a future version. Specify a dtype explicitly to silence this warning.\n",
      "  s = pd.Series()\n"
     ]
    }
   ],
   "source": [
    "### creating empty Series object\n",
    "import pandas as pd\n",
    "s = pd.Series()\n",
    "print(s)\n",
    "print(type(s))"
   ]
  },
  {
   "cell_type": "markdown",
   "id": "0536cfcc",
   "metadata": {},
   "source": [
    "### 2.2. Creating Series by using list\n",
    "- We can create Series by using list."
   ]
  },
  {
   "cell_type": "code",
   "execution_count": null,
   "id": "55c39714",
   "metadata": {},
   "outputs": [],
   "source": [
    "# creating Series object using list"
   ]
  },
  {
   "cell_type": "code",
   "execution_count": 4,
   "id": "3f1e4e82",
   "metadata": {},
   "outputs": [
    {
     "name": "stdout",
     "output_type": "stream",
     "text": [
      "0    56\n",
      "1    45\n",
      "2    35\n",
      "3    41\n",
      "4    44\n",
      "5    60\n",
      "dtype: int64\n"
     ]
    }
   ],
   "source": [
    "import pandas as pd\n",
    "m = [56, 45, 35, 41, 44, 60]\n",
    "s = pd.Series(m)\n",
    "print(s)"
   ]
  },
  {
   "cell_type": "code",
   "execution_count": 5,
   "id": "1e287fd6",
   "metadata": {},
   "outputs": [
    {
     "name": "stdout",
     "output_type": "stream",
     "text": [
      "0    56\n",
      "1    45\n",
      "2    35\n",
      "3    41\n",
      "4    44\n",
      "5    60\n",
      "Name: marks, dtype: int64\n"
     ]
    }
   ],
   "source": [
    "# creating Series object using list, assigning a name\n",
    "import pandas as pd\n",
    "m = [56, 45, 35, 41, 44, 60]\n",
    "s = pd.Series(m, name = \"marks\")\n",
    "print(s)"
   ]
  },
  {
   "cell_type": "code",
   "execution_count": 6,
   "id": "a6f1a1e2",
   "metadata": {},
   "outputs": [
    {
     "name": "stdout",
     "output_type": "stream",
     "text": [
      "0      Prasad\n",
      "1      Daniel\n",
      "2      Samuel\n",
      "3    Jeswanth\n",
      "Name: students, dtype: object\n"
     ]
    }
   ],
   "source": [
    "# creating Series object using list, assigning a name\n",
    "import pandas as pd\n",
    "n = [\"Prasad\", \"Daniel\", \"Samuel\", \"Jeswanth\"]\n",
    "s = pd.Series(n, name = \"students\")\n",
    "print(s)"
   ]
  },
  {
   "cell_type": "code",
   "execution_count": 8,
   "id": "58bc826e",
   "metadata": {},
   "outputs": [
    {
     "name": "stdout",
     "output_type": "stream",
     "text": [
      "0      0\n",
      "1      1\n",
      "2      2\n",
      "3      3\n",
      "4      4\n",
      "      ..\n",
      "95    95\n",
      "96    96\n",
      "97    97\n",
      "98    98\n",
      "99    99\n",
      "Length: 100, dtype: int64\n"
     ]
    }
   ],
   "source": [
    "#creating Series object by using range and list.\n",
    "import pandas as pd\n",
    "r = range(100)\n",
    "a = list(r)\n",
    "s = pd.Series(a)\n",
    "print(s)"
   ]
  },
  {
   "cell_type": "code",
   "execution_count": 9,
   "id": "5bb8e359",
   "metadata": {},
   "outputs": [
    {
     "name": "stdout",
     "output_type": "stream",
     "text": [
      "0      0\n",
      "1      1\n",
      "2      2\n",
      "3      3\n",
      "4      4\n",
      "      ..\n",
      "95    95\n",
      "96    96\n",
      "97    97\n",
      "98    98\n",
      "99    99\n",
      "Length: 100, dtype: int64\n"
     ]
    }
   ],
   "source": [
    "import pandas as pd\n",
    "r = range(100)\n",
    "a = list(r)\n",
    "s = pd.Series(a)\n",
    "print(s)"
   ]
  },
  {
   "cell_type": "code",
   "execution_count": 10,
   "id": "c50e5b57",
   "metadata": {},
   "outputs": [
    {
     "name": "stdout",
     "output_type": "stream",
     "text": [
      "[10 20 30 40]\n",
      "<class 'numpy.ndarray'>\n"
     ]
    }
   ],
   "source": [
    "## creating ndarray\n",
    "import pandas as pd\n",
    "import numpy as np\n",
    "values = [10, 20, 30, 40]\n",
    "data = np.array(values)\n",
    "print(data)\n",
    "print(type(data))\n"
   ]
  },
  {
   "cell_type": "code",
   "execution_count": 11,
   "id": "15b0d3c0",
   "metadata": {},
   "outputs": [
    {
     "name": "stdout",
     "output_type": "stream",
     "text": [
      "0    10\n",
      "1    20\n",
      "2    30\n",
      "3    40\n",
      "dtype: int32\n"
     ]
    }
   ],
   "source": [
    "#creating ndarray and passing argument to the Series\n",
    "\n",
    "import pandas as pd\n",
    "import numpy as np\n",
    "values = [10, 20, 30, 40]\n",
    "data = np.array(values)\n",
    "s = pd.Series(data)\n",
    "print(s)\n"
   ]
  },
  {
   "cell_type": "code",
   "execution_count": 12,
   "id": "ce49c052",
   "metadata": {},
   "outputs": [
    {
     "name": "stdout",
     "output_type": "stream",
     "text": [
      "0    a\n",
      "1    b\n",
      "2    c\n",
      "3    d\n",
      "dtype: object\n"
     ]
    }
   ],
   "source": [
    "#Creating Series using ndarray\n",
    "\n",
    "import pandas as pd\n",
    "import numpy as np\n",
    "values = ['a', 'b', 'c', 'd']\n",
    "data = np.array(values)\n",
    "s = pd.Series(data)\n",
    "print(s)\n"
   ]
  },
  {
   "cell_type": "code",
   "execution_count": 13,
   "id": "f57fbdaa",
   "metadata": {},
   "outputs": [
    {
     "name": "stdout",
     "output_type": "stream",
     "text": [
      "0     Vinay\n",
      "1    Daniel\n",
      "2     Veeru\n",
      "3     Arjun\n",
      "dtype: object\n"
     ]
    }
   ],
   "source": [
    "#Creating Series using ndarray\n",
    "\n",
    "import pandas as pd\n",
    "import numpy as np\n",
    "values = ['Vinay', 'Daniel', 'Veeru', 'Arjun']\n",
    "data = np.array(values)\n",
    "s = pd.Series(data)\n",
    "print(s)\n"
   ]
  },
  {
   "cell_type": "markdown",
   "id": "0aa9b9be",
   "metadata": {},
   "source": [
    "### 2.4. Creating Series by column from DataFrame\n",
    "- If we select single column from DataFrame then it returns Series object.\n",
    "- This point we will learn during DataFrame chapter, thanks for\n",
    "understanding."
   ]
  },
  {
   "cell_type": "markdown",
   "id": "630b5e48",
   "metadata": {},
   "source": [
    "### 3. Index in Series\n",
    "### 3.1. What is index?\n",
    "- Index means, the position of value where it stores.\n",
    "- The index is a core feature in pandas.\n",
    "- By default, index is assigned to every value.\n",
    "- From the output, the left most column is the index column.\n",
    "- The generic name for an index is an axis.\n",
    "### 3.2. Index default value\n",
    "- The default values for an index are integers.\n",
    "- The index starts from 0, 1, 2, 3, etc.\n",
    "- Based on requirement we can customise this index\n",
    "- These are called as axis labels"
   ]
  },
  {
   "cell_type": "code",
   "execution_count": 16,
   "id": "cc50b91c",
   "metadata": {},
   "outputs": [
    {
     "name": "stdout",
     "output_type": "stream",
     "text": [
      "0    145\n",
      "1    142\n",
      "2     38\n",
      "3     13\n",
      "dtype: int64\n"
     ]
    }
   ],
   "source": [
    "# Creating Series\n",
    "\n",
    "import pandas as pd\n",
    "v = [145, 142, 38, 13]\n",
    "s = pd.Series(v)\n",
    "print(s)"
   ]
  },
  {
   "cell_type": "code",
   "execution_count": 17,
   "id": "7950c83a",
   "metadata": {},
   "outputs": [
    {
     "name": "stdout",
     "output_type": "stream",
     "text": [
      "0    145\n",
      "1    142\n",
      "2     38\n",
      "3     13\n",
      "Name: counts, dtype: int64\n"
     ]
    }
   ],
   "source": [
    "#Creating Series object and giving name\n",
    "\n",
    "import pandas as pd\n",
    "v = [145, 142, 38, 13]\n",
    "s = pd.Series(v, name = 'counts')\n",
    "print(s)"
   ]
  },
  {
   "cell_type": "code",
   "execution_count": 18,
   "id": "50f7bed3",
   "metadata": {},
   "outputs": [
    {
     "name": "stdout",
     "output_type": "stream",
     "text": [
      "10    145\n",
      "20    142\n",
      "30     38\n",
      "40     13\n",
      "Name: counts, dtype: int64\n"
     ]
    }
   ],
   "source": [
    "### Creating Series object and giving name and index\n",
    "\n",
    "import pandas as pd\n",
    "v = [145, 142, 38, 13]\n",
    "i = [10, 20, 30, 40]\n",
    "s = pd.Series(v, name = 'counts', index = i )\n",
    "print(s)"
   ]
  },
  {
   "cell_type": "code",
   "execution_count": 19,
   "id": "877d13ad",
   "metadata": {},
   "outputs": [
    {
     "name": "stdout",
     "output_type": "stream",
     "text": [
      "Nokia       1000\n",
      "Samsung     2000\n",
      "Oppo        3000\n",
      "iPhone 6    4000\n",
      "Name: mobiles, dtype: int64\n"
     ]
    }
   ],
   "source": [
    "##Creating Series object and giving name and index\n",
    "\n",
    "import pandas as pd\n",
    "prices = [1000, 2000, 3000, 4000]\n",
    "products = [\"Nokia\", \"Samsung\", \"Oppo\", \"iPhone 6\"]\n",
    "s = pd.Series(prices, name = 'mobiles', index = products )\n",
    "print(s)\n"
   ]
  },
  {
   "cell_type": "markdown",
   "id": "c0c88904",
   "metadata": {},
   "source": [
    "### 4. Accessing values in Series\n",
    "- We can access series values by using index"
   ]
  },
  {
   "cell_type": "code",
   "execution_count": 20,
   "id": "be4ee808",
   "metadata": {},
   "outputs": [
    {
     "name": "stdout",
     "output_type": "stream",
     "text": [
      "0    56\n",
      "1    45\n",
      "2    35\n",
      "3    41\n",
      "4    44\n",
      "5    60\n",
      "Name: marks, dtype: int64\n",
      "\n",
      "56\n",
      "45\n"
     ]
    }
   ],
   "source": [
    "#Creating Series and accessing values\n",
    "\n",
    "import pandas as pd\n",
    "v = [56, 45, 35, 41, 44, 60]\n",
    "s = pd.Series(v, name = \"marks\")\n",
    "print(s)\n",
    "print()\n",
    "print(s[0])\n",
    "print(s[1])"
   ]
  },
  {
   "cell_type": "code",
   "execution_count": 21,
   "id": "002a7c66",
   "metadata": {},
   "outputs": [
    {
     "name": "stdout",
     "output_type": "stream",
     "text": [
      "Nokia       1000\n",
      "Samsung     2000\n",
      "Oppo        3000\n",
      "iPhone 6    4000\n",
      "Name: mobiles, dtype: int64\n",
      "\n",
      "1000\n",
      "2000\n"
     ]
    }
   ],
   "source": [
    "#Creating Series and accessing values\n",
    "\n",
    "import pandas as pd\n",
    "prices = [1000, 2000, 3000, 4000]\n",
    "products = [\"Nokia\", \"Samsung\", \"Oppo\", \"iPhone 6\"]\n",
    "s = pd.Series(prices, name = 'mobiles', index = products )\n",
    "print(s)\n",
    "print()\n",
    "print(s[\"Nokia\"])\n",
    "print(s[\"Samsung\"])"
   ]
  },
  {
   "cell_type": "code",
   "execution_count": null,
   "id": "60be6a9f",
   "metadata": {},
   "outputs": [],
   "source": []
  },
  {
   "cell_type": "code",
   "execution_count": null,
   "id": "fb26588e",
   "metadata": {},
   "outputs": [],
   "source": []
  },
  {
   "cell_type": "code",
   "execution_count": null,
   "id": "332fe028",
   "metadata": {},
   "outputs": [],
   "source": []
  },
  {
   "cell_type": "code",
   "execution_count": null,
   "id": "53f40cc4",
   "metadata": {},
   "outputs": [],
   "source": []
  },
  {
   "cell_type": "code",
   "execution_count": null,
   "id": "cc3b3d26",
   "metadata": {},
   "outputs": [],
   "source": []
  },
  {
   "cell_type": "code",
   "execution_count": null,
   "id": "c0e2f4a3",
   "metadata": {},
   "outputs": [],
   "source": []
  }
 ],
 "metadata": {
  "kernelspec": {
   "display_name": "Python 3 (ipykernel)",
   "language": "python",
   "name": "python3"
  },
  "language_info": {
   "codemirror_mode": {
    "name": "ipython",
    "version": 3
   },
   "file_extension": ".py",
   "mimetype": "text/x-python",
   "name": "python",
   "nbconvert_exporter": "python",
   "pygments_lexer": "ipython3",
   "version": "3.9.7"
  }
 },
 "nbformat": 4,
 "nbformat_minor": 5
}
